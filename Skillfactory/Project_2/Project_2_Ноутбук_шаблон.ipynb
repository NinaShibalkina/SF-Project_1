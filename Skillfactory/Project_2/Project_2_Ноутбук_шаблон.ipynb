{
  "cells": [
    {
      "cell_type": "markdown",
      "id": "42289889-bd57-434e-9637-d3e354756316",
      "metadata": {
        "id": "42289889-bd57-434e-9637-d3e354756316"
      },
      "source": [
        "<center> <img src = https://raw.githubusercontent.com/AndreyRysistov/DatasetsForPandas/main/hh%20label.jpg alt=\"drawing\" style=\"width:400px;\">"
      ]
    },
    {
      "cell_type": "markdown",
      "id": "829cb75b-f14e-4ba8-9195-7ba929a7d656",
      "metadata": {
        "id": "829cb75b-f14e-4ba8-9195-7ba929a7d656",
        "tags": []
      },
      "source": [
        "# <center> Проект: Анализ вакансий из HeadHunter\n",
        "   "
      ]
    },
    {
      "cell_type": "code",
      "execution_count": 2,
      "id": "dccfde33-2452-43fb-a8a5-5c6ebc02a71d",
      "metadata": {
        "id": "dccfde33-2452-43fb-a8a5-5c6ebc02a71d"
      },
      "outputs": [],
      "source": [
        "import pandas as pd\n",
        "import psycopg2"
      ]
    },
    {
      "cell_type": "code",
      "execution_count": 3,
      "id": "oVKH4ehvf8Ay",
      "metadata": {
        "id": "oVKH4ehvf8Ay"
      },
      "outputs": [],
      "source": [
        "# вставьте сюда параметры подключения из юнита 1. Работа с базой данных из Python \n",
        "DBNAME = 'project_sql'\n",
        "USER = 'skillfactory'\n",
        "PASSWORD = 'cCkxxLVrDE8EbvjueeMedPKt'\n",
        "HOST = '84.201.134.129'\n",
        "PORT = 5432"
      ]
    },
    {
      "cell_type": "markdown",
      "id": "0dc6476b-7a00-44f1-ac93-6e3baed33a29",
      "metadata": {
        "id": "0dc6476b-7a00-44f1-ac93-6e3baed33a29"
      },
      "source": [
        "# Юнит 3. Предварительный анализ данных"
      ]
    },
    {
      "cell_type": "markdown",
      "id": "889782b6-8d1c-410e-8920-e57f27917c64",
      "metadata": {
        "id": "889782b6-8d1c-410e-8920-e57f27917c64"
      },
      "source": [
        "1. Напишите запрос, который посчитает количество вакансий в нашей базе (вакансии находятся в таблице vacancies). "
      ]
    },
    {
      "cell_type": "code",
      "execution_count": 4,
      "id": "bc39e68e-ed02-4ee2-9235-7258a2f867a8",
      "metadata": {
        "id": "bc39e68e-ed02-4ee2-9235-7258a2f867a8"
      },
      "outputs": [],
      "source": [
        "# Считаем по количеству id вакансий из таблицы vacancies\n",
        "query_3_1 = f'''select \n",
        "           COUNT(id) \n",
        "           from vacancies\n",
        "           \n",
        "        '''"
      ]
    },
    {
      "cell_type": "code",
      "execution_count": 5,
      "id": "7mAwtsk4hEHY",
      "metadata": {
        "id": "7mAwtsk4hEHY"
      },
      "outputs": [
        {
          "name": "stderr",
          "output_type": "stream",
          "text": [
            "C:\\Users\\Nina\\AppData\\Local\\Temp\\ipykernel_50084\\1114379196.py:2: UserWarning: pandas only supports SQLAlchemy connectable (engine/connection) or database string URI or sqlite3 DBAPI2 connection. Other DBAPI2 objects are not tested. Please consider using SQLAlchemy.\n",
            "  df = pd.read_sql_query(query_3_1, connection)\n"
          ]
        },
        {
          "data": {
            "text/html": [
              "<div>\n",
              "<style scoped>\n",
              "    .dataframe tbody tr th:only-of-type {\n",
              "        vertical-align: middle;\n",
              "    }\n",
              "\n",
              "    .dataframe tbody tr th {\n",
              "        vertical-align: top;\n",
              "    }\n",
              "\n",
              "    .dataframe thead th {\n",
              "        text-align: right;\n",
              "    }\n",
              "</style>\n",
              "<table border=\"1\" class=\"dataframe\">\n",
              "  <thead>\n",
              "    <tr style=\"text-align: right;\">\n",
              "      <th></th>\n",
              "      <th>count</th>\n",
              "    </tr>\n",
              "  </thead>\n",
              "  <tbody>\n",
              "    <tr>\n",
              "      <th>0</th>\n",
              "      <td>49197</td>\n",
              "    </tr>\n",
              "  </tbody>\n",
              "</table>\n",
              "</div>"
            ],
            "text/plain": [
              "   count\n",
              "0  49197"
            ]
          },
          "execution_count": 5,
          "metadata": {},
          "output_type": "execute_result"
        }
      ],
      "source": [
        "# результат запроса\n",
        "df = pd.read_sql_query(query_3_1, connection)\n",
        "df"
      ]
    },
    {
      "cell_type": "markdown",
      "id": "b583485d-1f9e-494e-ada4-80ffff7c53d6",
      "metadata": {
        "id": "b583485d-1f9e-494e-ada4-80ffff7c53d6"
      },
      "source": [
        "2. Напишите запрос, который посчитает количество работодателей (таблица employers). "
      ]
    },
    {
      "cell_type": "code",
      "execution_count": 6,
      "id": "5408c52c-3407-4a63-b25b-1aafa2322d28",
      "metadata": {
        "id": "5408c52c-3407-4a63-b25b-1aafa2322d28"
      },
      "outputs": [],
      "source": [
        "# Считаем по количеству id работодателей из таблицы employers\n",
        "query_3_2 = f'''select \n",
        "           COUNT(id)\n",
        "           from employers\n",
        "          \n",
        "        '''"
      ]
    },
    {
      "cell_type": "code",
      "execution_count": 7,
      "id": "jVL4eshKhdqc",
      "metadata": {
        "id": "jVL4eshKhdqc"
      },
      "outputs": [
        {
          "name": "stderr",
          "output_type": "stream",
          "text": [
            "C:\\Users\\Nina\\AppData\\Local\\Temp\\ipykernel_50084\\3062646138.py:2: UserWarning: pandas only supports SQLAlchemy connectable (engine/connection) or database string URI or sqlite3 DBAPI2 connection. Other DBAPI2 objects are not tested. Please consider using SQLAlchemy.\n",
            "  df = pd.read_sql_query(query_3_2, connection)\n"
          ]
        },
        {
          "data": {
            "text/html": [
              "<div>\n",
              "<style scoped>\n",
              "    .dataframe tbody tr th:only-of-type {\n",
              "        vertical-align: middle;\n",
              "    }\n",
              "\n",
              "    .dataframe tbody tr th {\n",
              "        vertical-align: top;\n",
              "    }\n",
              "\n",
              "    .dataframe thead th {\n",
              "        text-align: right;\n",
              "    }\n",
              "</style>\n",
              "<table border=\"1\" class=\"dataframe\">\n",
              "  <thead>\n",
              "    <tr style=\"text-align: right;\">\n",
              "      <th></th>\n",
              "      <th>count</th>\n",
              "    </tr>\n",
              "  </thead>\n",
              "  <tbody>\n",
              "    <tr>\n",
              "      <th>0</th>\n",
              "      <td>23501</td>\n",
              "    </tr>\n",
              "  </tbody>\n",
              "</table>\n",
              "</div>"
            ],
            "text/plain": [
              "   count\n",
              "0  23501"
            ]
          },
          "execution_count": 7,
          "metadata": {},
          "output_type": "execute_result"
        }
      ],
      "source": [
        "# результат запроса\n",
        "df = pd.read_sql_query(query_3_2, connection)\n",
        "df"
      ]
    },
    {
      "cell_type": "markdown",
      "id": "a2bfff1f-c975-4bf6-84be-2185d79dcb76",
      "metadata": {
        "id": "a2bfff1f-c975-4bf6-84be-2185d79dcb76"
      },
      "source": [
        "3. Посчитате с помощью запроса количество регионов (таблица areas)."
      ]
    },
    {
      "cell_type": "code",
      "execution_count": 8,
      "id": "1m8QJwBYhey6",
      "metadata": {
        "id": "1m8QJwBYhey6"
      },
      "outputs": [],
      "source": [
        "# Считаем по количеству id регионов из таблицы areas\n",
        "query_3_3 = f'''select \n",
        "           COUNT(id)\n",
        "           from areas\n",
        "          \n",
        "        '''"
      ]
    },
    {
      "cell_type": "code",
      "execution_count": 9,
      "id": "EZsn9tlfhe7f",
      "metadata": {
        "id": "EZsn9tlfhe7f"
      },
      "outputs": [
        {
          "name": "stderr",
          "output_type": "stream",
          "text": [
            "C:\\Users\\Nina\\AppData\\Local\\Temp\\ipykernel_50084\\928149064.py:2: UserWarning: pandas only supports SQLAlchemy connectable (engine/connection) or database string URI or sqlite3 DBAPI2 connection. Other DBAPI2 objects are not tested. Please consider using SQLAlchemy.\n",
            "  df = pd.read_sql_query(query_3_3, connection)\n"
          ]
        },
        {
          "data": {
            "text/html": [
              "<div>\n",
              "<style scoped>\n",
              "    .dataframe tbody tr th:only-of-type {\n",
              "        vertical-align: middle;\n",
              "    }\n",
              "\n",
              "    .dataframe tbody tr th {\n",
              "        vertical-align: top;\n",
              "    }\n",
              "\n",
              "    .dataframe thead th {\n",
              "        text-align: right;\n",
              "    }\n",
              "</style>\n",
              "<table border=\"1\" class=\"dataframe\">\n",
              "  <thead>\n",
              "    <tr style=\"text-align: right;\">\n",
              "      <th></th>\n",
              "      <th>count</th>\n",
              "    </tr>\n",
              "  </thead>\n",
              "  <tbody>\n",
              "    <tr>\n",
              "      <th>0</th>\n",
              "      <td>1362</td>\n",
              "    </tr>\n",
              "  </tbody>\n",
              "</table>\n",
              "</div>"
            ],
            "text/plain": [
              "   count\n",
              "0   1362"
            ]
          },
          "execution_count": 9,
          "metadata": {},
          "output_type": "execute_result"
        }
      ],
      "source": [
        "# результат запроса\n",
        "df = pd.read_sql_query(query_3_3, connection)\n",
        "df"
      ]
    },
    {
      "cell_type": "markdown",
      "id": "41bb59f3-53cc-4a67-a5bc-bedf573955e4",
      "metadata": {
        "id": "41bb59f3-53cc-4a67-a5bc-bedf573955e4"
      },
      "source": [
        "4. Посчитате с помощью запроса количество сфер деятельности в базе (таблица industries)."
      ]
    },
    {
      "cell_type": "code",
      "execution_count": 11,
      "id": "d286cf4c-707b-4cd2-9190-7ab3587d04a1",
      "metadata": {
        "id": "d286cf4c-707b-4cd2-9190-7ab3587d04a1"
      },
      "outputs": [],
      "source": [
        "# Считаем по количеству id сфер деятельности из таблицы industries\n",
        "query_3_4 = f'''select \n",
        "           COUNT(id)\n",
        "           from industries\n",
        "          \n",
        "        '''"
      ]
    },
    {
      "cell_type": "code",
      "execution_count": 12,
      "id": "JYAaoZ4qhfzW",
      "metadata": {
        "id": "JYAaoZ4qhfzW"
      },
      "outputs": [
        {
          "name": "stderr",
          "output_type": "stream",
          "text": [
            "C:\\Users\\Nina\\AppData\\Local\\Temp\\ipykernel_50084\\2101691108.py:2: UserWarning: pandas only supports SQLAlchemy connectable (engine/connection) or database string URI or sqlite3 DBAPI2 connection. Other DBAPI2 objects are not tested. Please consider using SQLAlchemy.\n",
            "  df = pd.read_sql_query(query_3_4, connection)\n"
          ]
        },
        {
          "data": {
            "text/html": [
              "<div>\n",
              "<style scoped>\n",
              "    .dataframe tbody tr th:only-of-type {\n",
              "        vertical-align: middle;\n",
              "    }\n",
              "\n",
              "    .dataframe tbody tr th {\n",
              "        vertical-align: top;\n",
              "    }\n",
              "\n",
              "    .dataframe thead th {\n",
              "        text-align: right;\n",
              "    }\n",
              "</style>\n",
              "<table border=\"1\" class=\"dataframe\">\n",
              "  <thead>\n",
              "    <tr style=\"text-align: right;\">\n",
              "      <th></th>\n",
              "      <th>count</th>\n",
              "    </tr>\n",
              "  </thead>\n",
              "  <tbody>\n",
              "    <tr>\n",
              "      <th>0</th>\n",
              "      <td>294</td>\n",
              "    </tr>\n",
              "  </tbody>\n",
              "</table>\n",
              "</div>"
            ],
            "text/plain": [
              "   count\n",
              "0    294"
            ]
          },
          "execution_count": 12,
          "metadata": {},
          "output_type": "execute_result"
        }
      ],
      "source": [
        "# результат запроса\n",
        "df = pd.read_sql_query(query_3_4, connection)\n",
        "df"
      ]
    },
    {
      "cell_type": "markdown",
      "id": "9a8a2181-6914-448b-85f1-38f5f18b8a93",
      "metadata": {
        "id": "9a8a2181-6914-448b-85f1-38f5f18b8a93"
      },
      "source": [
        "***"
      ]
    },
    {
      "cell_type": "markdown",
      "id": "c90065ee",
      "metadata": {},
      "source": [
        "# выводы по предварительному анализу данных\n",
        "Вакансий (49197) практически в 2 раза больше, чем работодателей (23501). Значит, работодатели обычно размещают больше, чем одну вакансию.\n",
        "Сфер деятельности, в которых ищут работников, 294, достаточно большое разнообразие. И, вероятно, что в каждой сфере деятельности разнообразный выбор вакансий.\n",
        "Т.к. всего вакансий 49197, тогда на одну сферу приходится в среднем 167,33 вакансии.\n",
        "Также достаточно разнообразный разброс по регионам поиска, а именно 1362. Но скорее всего количество вакансий по регионам будет не равномерным.\n",
        "Неравномерость, скорее всего, связана с неравномерностью деловой активности по регионам России."
      ]
    },
    {
      "cell_type": "markdown",
      "id": "8d62a9f3-f64e-4fe7-bdac-c4dffa16155e",
      "metadata": {
        "id": "8d62a9f3-f64e-4fe7-bdac-c4dffa16155e"
      },
      "source": [
        "# Юнит 4. Детальный анализ вакансий"
      ]
    },
    {
      "cell_type": "markdown",
      "id": "93053d3d-b284-481a-9cf7-012d7014c0e0",
      "metadata": {
        "id": "93053d3d-b284-481a-9cf7-012d7014c0e0"
      },
      "source": [
        "1. Напишите запрос, который позволит узнать, сколько (cnt) вакансий в каждом регионе (area).\n",
        "Отсортируйте по количеству вакансий в порядке убывания."
      ]
    },
    {
      "cell_type": "code",
      "execution_count": 13,
      "id": "3f069da6-fdc9-4ae7-b514-fafe2675efd3",
      "metadata": {
        "id": "3f069da6-fdc9-4ae7-b514-fafe2675efd3"
      },
      "outputs": [],
      "source": [
        "# Группироуем данные по названию региона, в каждом регионе считаем количество id вакансий\n",
        "query_4_1 = f'''select \n",
        "           a.name, \n",
        "           COUNT(v.id)\n",
        "           from vacancies v\n",
        "           LEFT JOIN areas a on v.area_id=a.id\n",
        "           GROUP BY a.name \n",
        "           ORDER BY COUNT(v.id) DESC\n",
        "           LIMIT 5\n",
        "          \n",
        "        '''"
      ]
    },
    {
      "cell_type": "code",
      "execution_count": 14,
      "id": "P7QL86hrjhRJ",
      "metadata": {
        "id": "P7QL86hrjhRJ"
      },
      "outputs": [
        {
          "name": "stderr",
          "output_type": "stream",
          "text": [
            "C:\\Users\\Nina\\AppData\\Local\\Temp\\ipykernel_50084\\2457173557.py:2: UserWarning: pandas only supports SQLAlchemy connectable (engine/connection) or database string URI or sqlite3 DBAPI2 connection. Other DBAPI2 objects are not tested. Please consider using SQLAlchemy.\n",
            "  df = pd.read_sql_query(query_4_1, connection)\n"
          ]
        },
        {
          "data": {
            "text/html": [
              "<div>\n",
              "<style scoped>\n",
              "    .dataframe tbody tr th:only-of-type {\n",
              "        vertical-align: middle;\n",
              "    }\n",
              "\n",
              "    .dataframe tbody tr th {\n",
              "        vertical-align: top;\n",
              "    }\n",
              "\n",
              "    .dataframe thead th {\n",
              "        text-align: right;\n",
              "    }\n",
              "</style>\n",
              "<table border=\"1\" class=\"dataframe\">\n",
              "  <thead>\n",
              "    <tr style=\"text-align: right;\">\n",
              "      <th></th>\n",
              "      <th>name</th>\n",
              "      <th>count</th>\n",
              "    </tr>\n",
              "  </thead>\n",
              "  <tbody>\n",
              "    <tr>\n",
              "      <th>0</th>\n",
              "      <td>Москва</td>\n",
              "      <td>5333</td>\n",
              "    </tr>\n",
              "    <tr>\n",
              "      <th>1</th>\n",
              "      <td>Санкт-Петербург</td>\n",
              "      <td>2851</td>\n",
              "    </tr>\n",
              "    <tr>\n",
              "      <th>2</th>\n",
              "      <td>Минск</td>\n",
              "      <td>2112</td>\n",
              "    </tr>\n",
              "    <tr>\n",
              "      <th>3</th>\n",
              "      <td>Новосибирск</td>\n",
              "      <td>2006</td>\n",
              "    </tr>\n",
              "    <tr>\n",
              "      <th>4</th>\n",
              "      <td>Алматы</td>\n",
              "      <td>1892</td>\n",
              "    </tr>\n",
              "  </tbody>\n",
              "</table>\n",
              "</div>"
            ],
            "text/plain": [
              "              name  count\n",
              "0           Москва   5333\n",
              "1  Санкт-Петербург   2851\n",
              "2            Минск   2112\n",
              "3      Новосибирск   2006\n",
              "4           Алматы   1892"
            ]
          },
          "execution_count": 14,
          "metadata": {},
          "output_type": "execute_result"
        }
      ],
      "source": [
        "# результат запроса\n",
        "df = pd.read_sql_query(query_4_1, connection)\n",
        "df"
      ]
    },
    {
      "cell_type": "markdown",
      "id": "4266f0b6-1646-492a-88b4-2f6a46502135",
      "metadata": {
        "id": "4266f0b6-1646-492a-88b4-2f6a46502135"
      },
      "source": [
        "2. Напишите запрос, чтобы определить у какого количества вакансий заполнено хотя бы одно из двух полей с зарплатой."
      ]
    },
    {
      "cell_type": "code",
      "execution_count": 15,
      "id": "0c44b350-72eb-4d65-8b54-a1fc449ba9fd",
      "metadata": {
        "id": "0c44b350-72eb-4d65-8b54-a1fc449ba9fd"
      },
      "outputs": [],
      "source": [
        "# Для отбора применяем WHERE, просим вывести количество id вакансий, где не нулевое значение полей заработной платы\n",
        "query_4_2 = f'''select \n",
        "           COUNT(id)\n",
        "           from vacancies \n",
        "           WHERE salary_from is not NULL or salary_to is not NULL\n",
        "          \n",
        "        '''"
      ]
    },
    {
      "cell_type": "code",
      "execution_count": 16,
      "id": "rhvwaMDkoWTi",
      "metadata": {
        "id": "rhvwaMDkoWTi"
      },
      "outputs": [
        {
          "name": "stderr",
          "output_type": "stream",
          "text": [
            "C:\\Users\\Nina\\AppData\\Local\\Temp\\ipykernel_50084\\970655580.py:2: UserWarning: pandas only supports SQLAlchemy connectable (engine/connection) or database string URI or sqlite3 DBAPI2 connection. Other DBAPI2 objects are not tested. Please consider using SQLAlchemy.\n",
            "  df = pd.read_sql_query(query_4_2, connection)\n"
          ]
        },
        {
          "data": {
            "text/html": [
              "<div>\n",
              "<style scoped>\n",
              "    .dataframe tbody tr th:only-of-type {\n",
              "        vertical-align: middle;\n",
              "    }\n",
              "\n",
              "    .dataframe tbody tr th {\n",
              "        vertical-align: top;\n",
              "    }\n",
              "\n",
              "    .dataframe thead th {\n",
              "        text-align: right;\n",
              "    }\n",
              "</style>\n",
              "<table border=\"1\" class=\"dataframe\">\n",
              "  <thead>\n",
              "    <tr style=\"text-align: right;\">\n",
              "      <th></th>\n",
              "      <th>count</th>\n",
              "    </tr>\n",
              "  </thead>\n",
              "  <tbody>\n",
              "    <tr>\n",
              "      <th>0</th>\n",
              "      <td>24073</td>\n",
              "    </tr>\n",
              "  </tbody>\n",
              "</table>\n",
              "</div>"
            ],
            "text/plain": [
              "   count\n",
              "0  24073"
            ]
          },
          "execution_count": 16,
          "metadata": {},
          "output_type": "execute_result"
        }
      ],
      "source": [
        "# результат запроса\n",
        "df = pd.read_sql_query(query_4_2, connection)\n",
        "df"
      ]
    },
    {
      "cell_type": "markdown",
      "id": "635c4d5d-f323-4c66-b428-50a088120aa0",
      "metadata": {
        "id": "635c4d5d-f323-4c66-b428-50a088120aa0"
      },
      "source": [
        "3. Найдите средние значения для нижней и верхней границы зарплатной вилки. Округлите значения до целого."
      ]
    },
    {
      "cell_type": "code",
      "execution_count": 17,
      "id": "603cdbe4-0ec3-4106-8eaf-c73fcdd29165",
      "metadata": {
        "id": "603cdbe4-0ec3-4106-8eaf-c73fcdd29165"
      },
      "outputs": [],
      "source": [
        "# Примеряем агрегатную функцию AVG, которая возвращает среднее значение\n",
        "query_4_3 = f'''select \n",
        "           ROUND(AVG(salary_from)),\n",
        "           ROUND(AVG(salary_to))\n",
        "           from vacancies \n",
        "                    \n",
        "        '''"
      ]
    },
    {
      "cell_type": "code",
      "execution_count": 18,
      "id": "pswpAb66ovZZ",
      "metadata": {
        "id": "pswpAb66ovZZ"
      },
      "outputs": [
        {
          "name": "stderr",
          "output_type": "stream",
          "text": [
            "C:\\Users\\Nina\\AppData\\Local\\Temp\\ipykernel_50084\\2500607024.py:2: UserWarning: pandas only supports SQLAlchemy connectable (engine/connection) or database string URI or sqlite3 DBAPI2 connection. Other DBAPI2 objects are not tested. Please consider using SQLAlchemy.\n",
            "  df = pd.read_sql_query(query_4_3, connection)\n"
          ]
        },
        {
          "data": {
            "text/html": [
              "<div>\n",
              "<style scoped>\n",
              "    .dataframe tbody tr th:only-of-type {\n",
              "        vertical-align: middle;\n",
              "    }\n",
              "\n",
              "    .dataframe tbody tr th {\n",
              "        vertical-align: top;\n",
              "    }\n",
              "\n",
              "    .dataframe thead th {\n",
              "        text-align: right;\n",
              "    }\n",
              "</style>\n",
              "<table border=\"1\" class=\"dataframe\">\n",
              "  <thead>\n",
              "    <tr style=\"text-align: right;\">\n",
              "      <th></th>\n",
              "      <th>round</th>\n",
              "      <th>round</th>\n",
              "    </tr>\n",
              "  </thead>\n",
              "  <tbody>\n",
              "    <tr>\n",
              "      <th>0</th>\n",
              "      <td>71065.0</td>\n",
              "      <td>110537.0</td>\n",
              "    </tr>\n",
              "  </tbody>\n",
              "</table>\n",
              "</div>"
            ],
            "text/plain": [
              "     round     round\n",
              "0  71065.0  110537.0"
            ]
          },
          "execution_count": 18,
          "metadata": {},
          "output_type": "execute_result"
        }
      ],
      "source": [
        "# результат запроса\n",
        "df = pd.read_sql_query(query_4_3, connection)\n",
        "df"
      ]
    },
    {
      "cell_type": "markdown",
      "id": "f3fdaec9-5fd3-4260-9cf5-1d7406b628a5",
      "metadata": {
        "id": "f3fdaec9-5fd3-4260-9cf5-1d7406b628a5"
      },
      "source": [
        "4. Напишите запрос, который выведет количество вакансий для каждого сочетания типа рабочего графика (schedule) и типа трудоустройства (employment), используемого в вакансиях. Результат отсортируйте по убыванию количества.\n"
      ]
    },
    {
      "cell_type": "code",
      "execution_count": 19,
      "id": "1ea710ec-871b-431e-9462-c7d0fd87011b",
      "metadata": {
        "id": "1ea710ec-871b-431e-9462-c7d0fd87011b"
      },
      "outputs": [],
      "source": [
        "# Группируем данные по типу рабочего графица и типу трудоустройства, считаем id вакансий\n",
        "query_4_4 = f'''select \n",
        "           schedule,\n",
        "           employment,\n",
        "           COUNT(id)\n",
        "           from vacancies \n",
        "           GROUP BY schedule, employment\n",
        "           ORDER BY COUNT(id) DESC\n",
        "           Limit 2\n",
        "                    \n",
        "        '''"
      ]
    },
    {
      "cell_type": "code",
      "execution_count": 20,
      "id": "lGUVqavdo4JQ",
      "metadata": {
        "id": "lGUVqavdo4JQ"
      },
      "outputs": [
        {
          "name": "stderr",
          "output_type": "stream",
          "text": [
            "C:\\Users\\Nina\\AppData\\Local\\Temp\\ipykernel_50084\\2022935265.py:2: UserWarning: pandas only supports SQLAlchemy connectable (engine/connection) or database string URI or sqlite3 DBAPI2 connection. Other DBAPI2 objects are not tested. Please consider using SQLAlchemy.\n",
            "  df = pd.read_sql_query(query_4_4, connection)\n"
          ]
        },
        {
          "data": {
            "text/html": [
              "<div>\n",
              "<style scoped>\n",
              "    .dataframe tbody tr th:only-of-type {\n",
              "        vertical-align: middle;\n",
              "    }\n",
              "\n",
              "    .dataframe tbody tr th {\n",
              "        vertical-align: top;\n",
              "    }\n",
              "\n",
              "    .dataframe thead th {\n",
              "        text-align: right;\n",
              "    }\n",
              "</style>\n",
              "<table border=\"1\" class=\"dataframe\">\n",
              "  <thead>\n",
              "    <tr style=\"text-align: right;\">\n",
              "      <th></th>\n",
              "      <th>schedule</th>\n",
              "      <th>employment</th>\n",
              "      <th>count</th>\n",
              "    </tr>\n",
              "  </thead>\n",
              "  <tbody>\n",
              "    <tr>\n",
              "      <th>0</th>\n",
              "      <td>Полный день</td>\n",
              "      <td>Полная занятость</td>\n",
              "      <td>35367</td>\n",
              "    </tr>\n",
              "    <tr>\n",
              "      <th>1</th>\n",
              "      <td>Удаленная работа</td>\n",
              "      <td>Полная занятость</td>\n",
              "      <td>7802</td>\n",
              "    </tr>\n",
              "  </tbody>\n",
              "</table>\n",
              "</div>"
            ],
            "text/plain": [
              "           schedule        employment  count\n",
              "0       Полный день  Полная занятость  35367\n",
              "1  Удаленная работа  Полная занятость   7802"
            ]
          },
          "execution_count": 20,
          "metadata": {},
          "output_type": "execute_result"
        }
      ],
      "source": [
        "# результат запроса\n",
        "df = pd.read_sql_query(query_4_4, connection)\n",
        "df"
      ]
    },
    {
      "cell_type": "markdown",
      "id": "0136ffee-0ead-4a6b-b608-61d1c753a438",
      "metadata": {
        "id": "0136ffee-0ead-4a6b-b608-61d1c753a438"
      },
      "source": [
        "5. Напишите запрос, выводящий значения поля Требуемый опыт работы (experience) в порядке возрастания количества вакансий, в которых указан данный вариант опыта. "
      ]
    },
    {
      "cell_type": "code",
      "execution_count": 21,
      "id": "5b3a8e79-f7ab-4008-b767-12aea3a205ea",
      "metadata": {
        "id": "5b3a8e79-f7ab-4008-b767-12aea3a205ea"
      },
      "outputs": [],
      "source": [
        "# Группируем данные по опыту работы, считаем количество id вакансий в сформированных группах. С помощью ORDER BY сортируем \n",
        "query_4_5 = f'''select \n",
        "           experience,\n",
        "           COUNT(id)\n",
        "           from vacancies \n",
        "           GROUP BY 1\n",
        "           ORDER BY COUNT(id) \n",
        "                               \n",
        "        '''"
      ]
    },
    {
      "cell_type": "code",
      "execution_count": 22,
      "id": "3Is64Y-hpDpq",
      "metadata": {
        "id": "3Is64Y-hpDpq"
      },
      "outputs": [
        {
          "name": "stderr",
          "output_type": "stream",
          "text": [
            "C:\\Users\\Nina\\AppData\\Local\\Temp\\ipykernel_50084\\2316260449.py:2: UserWarning: pandas only supports SQLAlchemy connectable (engine/connection) or database string URI or sqlite3 DBAPI2 connection. Other DBAPI2 objects are not tested. Please consider using SQLAlchemy.\n",
            "  df = pd.read_sql_query(query_4_5, connection)\n"
          ]
        },
        {
          "data": {
            "text/html": [
              "<div>\n",
              "<style scoped>\n",
              "    .dataframe tbody tr th:only-of-type {\n",
              "        vertical-align: middle;\n",
              "    }\n",
              "\n",
              "    .dataframe tbody tr th {\n",
              "        vertical-align: top;\n",
              "    }\n",
              "\n",
              "    .dataframe thead th {\n",
              "        text-align: right;\n",
              "    }\n",
              "</style>\n",
              "<table border=\"1\" class=\"dataframe\">\n",
              "  <thead>\n",
              "    <tr style=\"text-align: right;\">\n",
              "      <th></th>\n",
              "      <th>experience</th>\n",
              "      <th>count</th>\n",
              "    </tr>\n",
              "  </thead>\n",
              "  <tbody>\n",
              "    <tr>\n",
              "      <th>0</th>\n",
              "      <td>Более 6 лет</td>\n",
              "      <td>1337</td>\n",
              "    </tr>\n",
              "    <tr>\n",
              "      <th>1</th>\n",
              "      <td>Нет опыта</td>\n",
              "      <td>7197</td>\n",
              "    </tr>\n",
              "    <tr>\n",
              "      <th>2</th>\n",
              "      <td>От 3 до 6 лет</td>\n",
              "      <td>14511</td>\n",
              "    </tr>\n",
              "    <tr>\n",
              "      <th>3</th>\n",
              "      <td>От 1 года до 3 лет</td>\n",
              "      <td>26152</td>\n",
              "    </tr>\n",
              "  </tbody>\n",
              "</table>\n",
              "</div>"
            ],
            "text/plain": [
              "           experience  count\n",
              "0         Более 6 лет   1337\n",
              "1           Нет опыта   7197\n",
              "2       От 3 до 6 лет  14511\n",
              "3  От 1 года до 3 лет  26152"
            ]
          },
          "execution_count": 22,
          "metadata": {},
          "output_type": "execute_result"
        }
      ],
      "source": [
        "# результат запроса\n",
        "df = pd.read_sql_query(query_4_5, connection)\n",
        "df"
      ]
    },
    {
      "cell_type": "markdown",
      "id": "oq2b7n1QpIka",
      "metadata": {
        "id": "oq2b7n1QpIka"
      },
      "source": [
        "***"
      ]
    },
    {
      "cell_type": "markdown",
      "id": "949b08fd",
      "metadata": {},
      "source": [
        "# выводы по детальному анализу вакансий\n",
        "Больше всего на hh работодатели ищут молодых специалистов с опытом работы от 1 до 3 лет, на полный день и полную занятость.\n",
        "Средняя зарплатная вилка 70-110 тыс. руб. В половине случаев работодатели в вакансии не указывают зарплатную вилку.\n",
        "Основные регионы по наличию вакансий: Москва, Санкт-Петербург, Минск, Новосибирск, Алматы"
      ]
    },
    {
      "cell_type": "markdown",
      "id": "7ea20ab6-04a7-40a0-adec-443a0e5a42c3",
      "metadata": {
        "id": "7ea20ab6-04a7-40a0-adec-443a0e5a42c3"
      },
      "source": [
        "# Юнит 5. Анализ работодателей"
      ]
    },
    {
      "cell_type": "markdown",
      "id": "968aed80-74ef-4ffb-b5bf-c65b84e9caea",
      "metadata": {
        "id": "968aed80-74ef-4ffb-b5bf-c65b84e9caea"
      },
      "source": [
        "1. Напишите запрос, который позволит узнать, какие работодатели находятся на первом и пятом месте по количеству вакансий."
      ]
    },
    {
      "cell_type": "code",
      "execution_count": 23,
      "id": "f2d62796-d400-4ec1-a675-88112739a50e",
      "metadata": {
        "id": "f2d62796-d400-4ec1-a675-88112739a50e"
      },
      "outputs": [],
      "source": [
        "# Группируем данные по наименованию работодателя, считаем количество вакансий по id\n",
        "query_5_1 = f'''select \n",
        "           e.name,\n",
        "           COUNT(v.id)\n",
        "           from employers e\n",
        "           left JOIN vacancies v on e.id = v.employer_id\n",
        "           GROUP BY e.name\n",
        "           ORDER BY COUNT(v.id) DESC\n",
        "           Limit 5\n",
        "           \n",
        "                               \n",
        "        '''"
      ]
    },
    {
      "cell_type": "code",
      "execution_count": 24,
      "id": "64tOMkAxqkQk",
      "metadata": {
        "id": "64tOMkAxqkQk"
      },
      "outputs": [
        {
          "name": "stderr",
          "output_type": "stream",
          "text": [
            "C:\\Users\\Nina\\AppData\\Local\\Temp\\ipykernel_50084\\3834399874.py:2: UserWarning: pandas only supports SQLAlchemy connectable (engine/connection) or database string URI or sqlite3 DBAPI2 connection. Other DBAPI2 objects are not tested. Please consider using SQLAlchemy.\n",
            "  df = pd.read_sql_query(query_5_1, connection)\n"
          ]
        },
        {
          "data": {
            "text/html": [
              "<div>\n",
              "<style scoped>\n",
              "    .dataframe tbody tr th:only-of-type {\n",
              "        vertical-align: middle;\n",
              "    }\n",
              "\n",
              "    .dataframe tbody tr th {\n",
              "        vertical-align: top;\n",
              "    }\n",
              "\n",
              "    .dataframe thead th {\n",
              "        text-align: right;\n",
              "    }\n",
              "</style>\n",
              "<table border=\"1\" class=\"dataframe\">\n",
              "  <thead>\n",
              "    <tr style=\"text-align: right;\">\n",
              "      <th></th>\n",
              "      <th>name</th>\n",
              "      <th>count</th>\n",
              "    </tr>\n",
              "  </thead>\n",
              "  <tbody>\n",
              "    <tr>\n",
              "      <th>0</th>\n",
              "      <td>Яндекс</td>\n",
              "      <td>1933</td>\n",
              "    </tr>\n",
              "    <tr>\n",
              "      <th>1</th>\n",
              "      <td>Ростелеком</td>\n",
              "      <td>491</td>\n",
              "    </tr>\n",
              "    <tr>\n",
              "      <th>2</th>\n",
              "      <td>Тинькофф</td>\n",
              "      <td>444</td>\n",
              "    </tr>\n",
              "    <tr>\n",
              "      <th>3</th>\n",
              "      <td>СБЕР</td>\n",
              "      <td>428</td>\n",
              "    </tr>\n",
              "    <tr>\n",
              "      <th>4</th>\n",
              "      <td>Газпром нефть</td>\n",
              "      <td>331</td>\n",
              "    </tr>\n",
              "  </tbody>\n",
              "</table>\n",
              "</div>"
            ],
            "text/plain": [
              "            name  count\n",
              "0         Яндекс   1933\n",
              "1     Ростелеком    491\n",
              "2       Тинькофф    444\n",
              "3           СБЕР    428\n",
              "4  Газпром нефть    331"
            ]
          },
          "execution_count": 24,
          "metadata": {},
          "output_type": "execute_result"
        }
      ],
      "source": [
        "# результат запроса\n",
        "df = pd.read_sql_query(query_5_1, connection)\n",
        "df"
      ]
    },
    {
      "cell_type": "markdown",
      "id": "68377cfc-b378-43dc-ab7d-1195abf2c515",
      "metadata": {
        "id": "68377cfc-b378-43dc-ab7d-1195abf2c515"
      },
      "source": [
        "2. Напишите запрос, который для каждого региона выведет количество работодателей и вакансий в нём.\n",
        "Среди регионов, в которых нет вакансий, найдите тот, в котором наибольшее количество работодателей.\n"
      ]
    },
    {
      "cell_type": "code",
      "execution_count": 11,
      "id": "dd7df27a-e3e8-412e-a21a-5d389b71e891",
      "metadata": {
        "id": "dd7df27a-e3e8-412e-a21a-5d389b71e891"
      },
      "outputs": [],
      "source": [
        "# Группируем данные по названию региона, считаем количество вакансий и работодателей в регионах\n",
        "query_5_2 = f'''select \n",
        "          a.name area, \n",
        "          count(DISTINCT v.id) vacation, \n",
        "          count(distinct e.id) company\n",
        "          from areas a\n",
        "          left join vacancies v on a.id = v.area_id\n",
        "          left join employers e on a.id = e.area\n",
        "          where v.area_id is null\n",
        "          group by a.name\n",
        "          order by  3 desc\n",
        "          limit 1\n",
        "           \n",
        "                               \n",
        "        '''\n"
      ]
    },
    {
      "cell_type": "code",
      "execution_count": 12,
      "id": "x1ikWbydrbf6",
      "metadata": {
        "id": "x1ikWbydrbf6"
      },
      "outputs": [
        {
          "name": "stderr",
          "output_type": "stream",
          "text": [
            "C:\\Users\\Nina\\AppData\\Local\\Temp\\ipykernel_48260\\2250345976.py:2: UserWarning: pandas only supports SQLAlchemy connectable (engine/connection) or database string URI or sqlite3 DBAPI2 connection. Other DBAPI2 objects are not tested. Please consider using SQLAlchemy.\n",
            "  df = pd.read_sql_query(query_5_2, connection)\n"
          ]
        },
        {
          "data": {
            "text/html": [
              "<div>\n",
              "<style scoped>\n",
              "    .dataframe tbody tr th:only-of-type {\n",
              "        vertical-align: middle;\n",
              "    }\n",
              "\n",
              "    .dataframe tbody tr th {\n",
              "        vertical-align: top;\n",
              "    }\n",
              "\n",
              "    .dataframe thead th {\n",
              "        text-align: right;\n",
              "    }\n",
              "</style>\n",
              "<table border=\"1\" class=\"dataframe\">\n",
              "  <thead>\n",
              "    <tr style=\"text-align: right;\">\n",
              "      <th></th>\n",
              "      <th>area</th>\n",
              "      <th>vacation</th>\n",
              "      <th>company</th>\n",
              "    </tr>\n",
              "  </thead>\n",
              "  <tbody>\n",
              "    <tr>\n",
              "      <th>0</th>\n",
              "      <td>Россия</td>\n",
              "      <td>0</td>\n",
              "      <td>410</td>\n",
              "    </tr>\n",
              "  </tbody>\n",
              "</table>\n",
              "</div>"
            ],
            "text/plain": [
              "     area  vacation  company\n",
              "0  Россия         0      410"
            ]
          },
          "execution_count": 12,
          "metadata": {},
          "output_type": "execute_result"
        }
      ],
      "source": [
        "# результат запроса\n",
        "df = pd.read_sql_query(query_5_2, connection)\n",
        "df"
      ]
    },
    {
      "cell_type": "markdown",
      "id": "f2fe0acb-ab1a-4e15-9326-2560e22d73c1",
      "metadata": {
        "id": "f2fe0acb-ab1a-4e15-9326-2560e22d73c1"
      },
      "source": [
        "3. Для каждого работодателя посчитайте количество регионов, в которых он публикует свои вакансии. Отсортируйте результат по убыванию количества.\n"
      ]
    },
    {
      "cell_type": "code",
      "execution_count": 25,
      "id": "6271f8ad-bd2e-4196-ae4a-5b39c4c1010e",
      "metadata": {
        "id": "6271f8ad-bd2e-4196-ae4a-5b39c4c1010e"
      },
      "outputs": [],
      "source": [
        "# Группируем данные по названию региона, считаем число регионов, сортируем\n",
        "query_5_3 = f'''select \n",
        "          e.name , \n",
        "          count(DISTINCT v.area_id) \"Число регионов\"\n",
        "          from employers e\n",
        "          join vacancies v on e.id = v.employer_id\n",
        "          group by e.name\n",
        "          order by 2 desc\n",
        "          limit 1\n",
        "                            \n",
        "        '''"
      ]
    },
    {
      "cell_type": "code",
      "execution_count": 26,
      "id": "1EIvX3HasH4F",
      "metadata": {
        "id": "1EIvX3HasH4F"
      },
      "outputs": [
        {
          "name": "stderr",
          "output_type": "stream",
          "text": [
            "C:\\Users\\Nina\\AppData\\Local\\Temp\\ipykernel_50084\\201667002.py:2: UserWarning: pandas only supports SQLAlchemy connectable (engine/connection) or database string URI or sqlite3 DBAPI2 connection. Other DBAPI2 objects are not tested. Please consider using SQLAlchemy.\n",
            "  df = pd.read_sql_query(query_5_3, connection)\n"
          ]
        },
        {
          "data": {
            "text/html": [
              "<div>\n",
              "<style scoped>\n",
              "    .dataframe tbody tr th:only-of-type {\n",
              "        vertical-align: middle;\n",
              "    }\n",
              "\n",
              "    .dataframe tbody tr th {\n",
              "        vertical-align: top;\n",
              "    }\n",
              "\n",
              "    .dataframe thead th {\n",
              "        text-align: right;\n",
              "    }\n",
              "</style>\n",
              "<table border=\"1\" class=\"dataframe\">\n",
              "  <thead>\n",
              "    <tr style=\"text-align: right;\">\n",
              "      <th></th>\n",
              "      <th>name</th>\n",
              "      <th>Число регионов</th>\n",
              "    </tr>\n",
              "  </thead>\n",
              "  <tbody>\n",
              "    <tr>\n",
              "      <th>0</th>\n",
              "      <td>Яндекс</td>\n",
              "      <td>181</td>\n",
              "    </tr>\n",
              "  </tbody>\n",
              "</table>\n",
              "</div>"
            ],
            "text/plain": [
              "     name  Число регионов\n",
              "0  Яндекс             181"
            ]
          },
          "execution_count": 26,
          "metadata": {},
          "output_type": "execute_result"
        }
      ],
      "source": [
        "# результат запроса\n",
        "df = pd.read_sql_query(query_5_3, connection)\n",
        "df"
      ]
    },
    {
      "cell_type": "markdown",
      "id": "eab2206d-d95b-468b-8e5f-34381abf0ce7",
      "metadata": {
        "id": "eab2206d-d95b-468b-8e5f-34381abf0ce7"
      },
      "source": [
        "4. Напишите запрос для подсчёта количества работодателей, у которых не указана сфера деятельности. "
      ]
    },
    {
      "cell_type": "code",
      "execution_count": 27,
      "id": "80defb23-bfb1-4a18-8be6-bf36aa7165d5",
      "metadata": {
        "id": "80defb23-bfb1-4a18-8be6-bf36aa7165d5"
      },
      "outputs": [],
      "source": [
        "# Применяем HAVING для отбора id работодателей, у которых не указана сфера деятельности\n",
        "query_5_4 = f'''select \n",
        "          count(DISTINCT e.id)\n",
        "          from employers e\n",
        "          left join employers_industries i on e.id = i.employer_id\n",
        "          GROUP BY i.industry_id\n",
        "          HAVING i.industry_id is NULL\n",
        "                                              \n",
        "        '''"
      ]
    },
    {
      "cell_type": "code",
      "execution_count": 28,
      "id": "Dp_yCx6ysQSu",
      "metadata": {
        "id": "Dp_yCx6ysQSu"
      },
      "outputs": [
        {
          "name": "stderr",
          "output_type": "stream",
          "text": [
            "C:\\Users\\Nina\\AppData\\Local\\Temp\\ipykernel_50084\\3493105328.py:2: UserWarning: pandas only supports SQLAlchemy connectable (engine/connection) or database string URI or sqlite3 DBAPI2 connection. Other DBAPI2 objects are not tested. Please consider using SQLAlchemy.\n",
            "  df = pd.read_sql_query(query_5_4, connection)\n"
          ]
        },
        {
          "data": {
            "text/html": [
              "<div>\n",
              "<style scoped>\n",
              "    .dataframe tbody tr th:only-of-type {\n",
              "        vertical-align: middle;\n",
              "    }\n",
              "\n",
              "    .dataframe tbody tr th {\n",
              "        vertical-align: top;\n",
              "    }\n",
              "\n",
              "    .dataframe thead th {\n",
              "        text-align: right;\n",
              "    }\n",
              "</style>\n",
              "<table border=\"1\" class=\"dataframe\">\n",
              "  <thead>\n",
              "    <tr style=\"text-align: right;\">\n",
              "      <th></th>\n",
              "      <th>count</th>\n",
              "    </tr>\n",
              "  </thead>\n",
              "  <tbody>\n",
              "    <tr>\n",
              "      <th>0</th>\n",
              "      <td>8419</td>\n",
              "    </tr>\n",
              "  </tbody>\n",
              "</table>\n",
              "</div>"
            ],
            "text/plain": [
              "   count\n",
              "0   8419"
            ]
          },
          "execution_count": 28,
          "metadata": {},
          "output_type": "execute_result"
        }
      ],
      "source": [
        "# результат запроса\n",
        "df = pd.read_sql_query(query_5_4, connection)\n",
        "df"
      ]
    },
    {
      "cell_type": "markdown",
      "id": "0112af31-f6b0-4e3b-82ab-71296e752e5e",
      "metadata": {
        "id": "0112af31-f6b0-4e3b-82ab-71296e752e5e"
      },
      "source": [
        "5. Напишите запрос, чтобы узнать название компании, находящейся на третьем месте в алфавитном списке (по названию) компаний, у которых указано четыре сферы деятельности. "
      ]
    },
    {
      "cell_type": "code",
      "execution_count": 29,
      "id": "973b0cfc-a972-470a-8b4a-68744ef220c4",
      "metadata": {
        "id": "973b0cfc-a972-470a-8b4a-68744ef220c4"
      },
      "outputs": [],
      "source": [
        "# Группируем данные на названию компании, отбираем с помощью HAVING\n",
        "query_5_5 = f'''select \n",
        "          e.name,\n",
        "          count(DISTINCT i.industry_id)\n",
        "          from employers e\n",
        "          left join employers_industries i on e.id = i.employer_id\n",
        "          GROUP BY e.name\n",
        "          HAVING count(DISTINCT i.industry_id) =4\n",
        "          ORDER BY e.name\n",
        "          Limit 3\n",
        "                                              \n",
        "        '''"
      ]
    },
    {
      "cell_type": "code",
      "execution_count": 30,
      "id": "xsPtpp8EsaED",
      "metadata": {
        "id": "xsPtpp8EsaED"
      },
      "outputs": [
        {
          "name": "stderr",
          "output_type": "stream",
          "text": [
            "C:\\Users\\Nina\\AppData\\Local\\Temp\\ipykernel_50084\\388711819.py:2: UserWarning: pandas only supports SQLAlchemy connectable (engine/connection) or database string URI or sqlite3 DBAPI2 connection. Other DBAPI2 objects are not tested. Please consider using SQLAlchemy.\n",
            "  df = pd.read_sql_query(query_5_5, connection)\n"
          ]
        },
        {
          "data": {
            "text/html": [
              "<div>\n",
              "<style scoped>\n",
              "    .dataframe tbody tr th:only-of-type {\n",
              "        vertical-align: middle;\n",
              "    }\n",
              "\n",
              "    .dataframe tbody tr th {\n",
              "        vertical-align: top;\n",
              "    }\n",
              "\n",
              "    .dataframe thead th {\n",
              "        text-align: right;\n",
              "    }\n",
              "</style>\n",
              "<table border=\"1\" class=\"dataframe\">\n",
              "  <thead>\n",
              "    <tr style=\"text-align: right;\">\n",
              "      <th></th>\n",
              "      <th>name</th>\n",
              "      <th>count</th>\n",
              "    </tr>\n",
              "  </thead>\n",
              "  <tbody>\n",
              "    <tr>\n",
              "      <th>0</th>\n",
              "      <td>101 Интернет</td>\n",
              "      <td>4</td>\n",
              "    </tr>\n",
              "    <tr>\n",
              "      <th>1</th>\n",
              "      <td>21vek.by</td>\n",
              "      <td>4</td>\n",
              "    </tr>\n",
              "    <tr>\n",
              "      <th>2</th>\n",
              "      <td>2ГИС</td>\n",
              "      <td>4</td>\n",
              "    </tr>\n",
              "  </tbody>\n",
              "</table>\n",
              "</div>"
            ],
            "text/plain": [
              "           name  count\n",
              "0  101 Интернет      4\n",
              "1      21vek.by      4\n",
              "2          2ГИС      4"
            ]
          },
          "execution_count": 30,
          "metadata": {},
          "output_type": "execute_result"
        }
      ],
      "source": [
        "# результат запроса\n",
        "df = pd.read_sql_query(query_5_5, connection)\n",
        "df"
      ]
    },
    {
      "cell_type": "markdown",
      "id": "3bfcfdaf-755d-4d2b-8ed8-326201dc07ab",
      "metadata": {
        "id": "3bfcfdaf-755d-4d2b-8ed8-326201dc07ab"
      },
      "source": [
        "6. С помощью запроса выясните, у какого количества работодателей в качестве сферы деятельности указана Разработка программного обеспечения.\n"
      ]
    },
    {
      "cell_type": "code",
      "execution_count": 31,
      "id": "ad3f270f-2991-47eb-929b-e8f88a55b0d1",
      "metadata": {
        "id": "ad3f270f-2991-47eb-929b-e8f88a55b0d1"
      },
      "outputs": [],
      "source": [
        "# Отбираем работодателей из сферы разработки ПО с помощью HAVING, считаем количество\n",
        "query_5_6 = f'''select \n",
        "          count (distinct e.id) employer\n",
        "          from employers_industries i\n",
        "          left join employers e on e.id = i.employer_id\n",
        "          left join industries ind on ind.id = i.industry_id\n",
        "          WHERE ind.name = 'Разработка программного обеспечения'\n",
        "        \n",
        "                                                            \n",
        "        '''"
      ]
    },
    {
      "cell_type": "code",
      "execution_count": 32,
      "id": "H72qxWM0shPR",
      "metadata": {
        "id": "H72qxWM0shPR"
      },
      "outputs": [
        {
          "name": "stderr",
          "output_type": "stream",
          "text": [
            "C:\\Users\\Nina\\AppData\\Local\\Temp\\ipykernel_50084\\821628714.py:2: UserWarning: pandas only supports SQLAlchemy connectable (engine/connection) or database string URI or sqlite3 DBAPI2 connection. Other DBAPI2 objects are not tested. Please consider using SQLAlchemy.\n",
            "  df = pd.read_sql_query(query_5_6, connection)\n"
          ]
        },
        {
          "data": {
            "text/html": [
              "<div>\n",
              "<style scoped>\n",
              "    .dataframe tbody tr th:only-of-type {\n",
              "        vertical-align: middle;\n",
              "    }\n",
              "\n",
              "    .dataframe tbody tr th {\n",
              "        vertical-align: top;\n",
              "    }\n",
              "\n",
              "    .dataframe thead th {\n",
              "        text-align: right;\n",
              "    }\n",
              "</style>\n",
              "<table border=\"1\" class=\"dataframe\">\n",
              "  <thead>\n",
              "    <tr style=\"text-align: right;\">\n",
              "      <th></th>\n",
              "      <th>employer</th>\n",
              "    </tr>\n",
              "  </thead>\n",
              "  <tbody>\n",
              "    <tr>\n",
              "      <th>0</th>\n",
              "      <td>3553</td>\n",
              "    </tr>\n",
              "  </tbody>\n",
              "</table>\n",
              "</div>"
            ],
            "text/plain": [
              "   employer\n",
              "0      3553"
            ]
          },
          "execution_count": 32,
          "metadata": {},
          "output_type": "execute_result"
        }
      ],
      "source": [
        "# результат запроса\n",
        "df = pd.read_sql_query(query_5_6, connection)\n",
        "df"
      ]
    },
    {
      "cell_type": "markdown",
      "id": "7b02bb86-0546-40fb-94a4-242f050a5c57",
      "metadata": {
        "id": "7b02bb86-0546-40fb-94a4-242f050a5c57"
      },
      "source": [
        "7. Для компании «Яндекс» выведите список регионов-миллионников, в которых представлены вакансии компании, вместе с количеством вакансий в этих регионах. Также добавьте строку Total с общим количеством вакансий компании. Результат отсортируйте по возрастанию количества.\n",
        "\n",
        "Список городов-милионников надо взять [отсюда](https://ru.wikipedia.org/wiki/%D0%93%D0%BE%D1%80%D0%BE%D0%B4%D0%B0-%D0%BC%D0%B8%D0%BB%D0%BB%D0%B8%D0%BE%D0%BD%D0%B5%D1%80%D1%8B_%D0%A0%D0%BE%D1%81%D1%81%D0%B8%D0%B8). \n",
        "\n",
        "Если возникнут трудности с этим задание посмотрите материалы модуля  PYTHON-17. Как получать данные из веб-источников и API. "
      ]
    },
    {
      "cell_type": "code",
      "execution_count": 33,
      "id": "ZdfrL6gIs1Pn",
      "metadata": {
        "id": "ZdfrL6gIs1Pn"
      },
      "outputs": [],
      "source": [
        "# код для получения списка городов-милионников\n",
        "import requests # Импортируем библиотеку requests\n",
        "from bs4 import BeautifulSoup # Импортируем библиотеку BeautifulSoup\n",
        "url = 'https://ru.wikipedia.org/wiki/Города-миллионеры_России' # Определяем значение URL страницы для запроса\n",
        "response = requests.get(url) # Делаем GET-запрос к ресурсу и результат ответа сохраняем в переменной response\n",
        "page = BeautifulSoup(response.text, 'html.parser') # Создаём объект BeautifulSoup, указывая html-парсер\n",
        "tabl = page.find(\"table\", class_=\"standard\")       # ищем на странице таблицу\n",
        "\n",
        "town = []\n",
        "tt = tabl.find(\"tbody\") # в таблице выбираем тело таблицы\n",
        "qq = tt.find_all(\"tr\")  # в теле таблицы выбираем все ряды\n",
        "\n",
        "for ss in qq:\n",
        "  qqq = list(ss.find(\"a\"))  # в каждом ряде находим тег \"а\", преобразуем его в список\n",
        "  town.append(qqq[0])       # и добавляем содержимое к списку городов\n",
        "town = town[1:]             # в первом ряду кусок от названия, отсекаем его"
      ]
    },
    {
      "cell_type": "code",
      "execution_count": 34,
      "id": "5a0e32a4-e68a-4365-8a39-2fe24c542c36",
      "metadata": {
        "id": "5a0e32a4-e68a-4365-8a39-2fe24c542c36"
      },
      "outputs": [],
      "source": [
        "# текст запроса\n",
        "query = f'''\n",
        "          (select a.name area, count(v.id) count -- count(DISTINCT ei.industry_id) industries--, count(distinct e.id) company\n",
        "          from employers e\n",
        "          join vacancies v on e.id = v.employer_id\n",
        "          join areas a on v.area_id = a.id\n",
        "          where (e.name = 'Яндекс')'''\n",
        "# далее формируем строку для фильтрации городов миллионников из предыдущего блока\n",
        "# в результате которого получили список городов миллионников\n",
        "ll = len(town)\n",
        "if ll > 0:\n",
        "  str = f\" AND (( a.name = '{town[0]}')\" # если есть хоть один город миллионник\n",
        "  if ll > 1:\n",
        "    for s in town[1:]:\n",
        "      str += f\" OR (a.name = '{s}')\"     # и для каждого следующего города из списка\n",
        "\n",
        "# далее завершение запроса\n",
        "query += (str + f''')\n",
        "          group by a.name\n",
        "          order by  2 desc)\n",
        "          '''\n",
        "          +                             # далее суммирем результат\n",
        "'''\n",
        "          --limit 6\n",
        "          union  all\n",
        "          select 'Total :' area, count( v.id)\n",
        "          from employers e\n",
        "          join vacancies v on e.id = v.employer_id\n",
        "          join areas a on v.area_id = a.id\n",
        "          where (e.name = 'Яндекс')'''\n",
        "          +str\n",
        "          +\n",
        "'''       )\n",
        "          group by area\n",
        "          order by  2\n",
        "'''\n",
        ")"
      ]
    },
    {
      "cell_type": "code",
      "execution_count": 35,
      "id": "ttPhiO1rsvPq",
      "metadata": {
        "id": "ttPhiO1rsvPq"
      },
      "outputs": [
        {
          "name": "stderr",
          "output_type": "stream",
          "text": [
            "C:\\Users\\Nina\\AppData\\Local\\Temp\\ipykernel_50084\\1115395102.py:2: UserWarning: pandas only supports SQLAlchemy connectable (engine/connection) or database string URI or sqlite3 DBAPI2 connection. Other DBAPI2 objects are not tested. Please consider using SQLAlchemy.\n",
            "  df = pd.read_sql_query(query, connection)\n"
          ]
        },
        {
          "data": {
            "text/html": [
              "<div>\n",
              "<style scoped>\n",
              "    .dataframe tbody tr th:only-of-type {\n",
              "        vertical-align: middle;\n",
              "    }\n",
              "\n",
              "    .dataframe tbody tr th {\n",
              "        vertical-align: top;\n",
              "    }\n",
              "\n",
              "    .dataframe thead th {\n",
              "        text-align: right;\n",
              "    }\n",
              "</style>\n",
              "<table border=\"1\" class=\"dataframe\">\n",
              "  <thead>\n",
              "    <tr style=\"text-align: right;\">\n",
              "      <th></th>\n",
              "      <th>area</th>\n",
              "      <th>count</th>\n",
              "    </tr>\n",
              "  </thead>\n",
              "  <tbody>\n",
              "    <tr>\n",
              "      <th>0</th>\n",
              "      <td>Омск</td>\n",
              "      <td>21</td>\n",
              "    </tr>\n",
              "    <tr>\n",
              "      <th>1</th>\n",
              "      <td>Челябинск</td>\n",
              "      <td>22</td>\n",
              "    </tr>\n",
              "    <tr>\n",
              "      <th>2</th>\n",
              "      <td>Красноярск</td>\n",
              "      <td>23</td>\n",
              "    </tr>\n",
              "    <tr>\n",
              "      <th>3</th>\n",
              "      <td>Волгоград</td>\n",
              "      <td>24</td>\n",
              "    </tr>\n",
              "    <tr>\n",
              "      <th>4</th>\n",
              "      <td>Казань</td>\n",
              "      <td>25</td>\n",
              "    </tr>\n",
              "    <tr>\n",
              "      <th>5</th>\n",
              "      <td>Ростов-на-Дону</td>\n",
              "      <td>25</td>\n",
              "    </tr>\n",
              "    <tr>\n",
              "      <th>6</th>\n",
              "      <td>Пермь</td>\n",
              "      <td>25</td>\n",
              "    </tr>\n",
              "    <tr>\n",
              "      <th>7</th>\n",
              "      <td>Самара</td>\n",
              "      <td>26</td>\n",
              "    </tr>\n",
              "    <tr>\n",
              "      <th>8</th>\n",
              "      <td>Уфа</td>\n",
              "      <td>26</td>\n",
              "    </tr>\n",
              "    <tr>\n",
              "      <th>9</th>\n",
              "      <td>Краснодар</td>\n",
              "      <td>30</td>\n",
              "    </tr>\n",
              "    <tr>\n",
              "      <th>10</th>\n",
              "      <td>Воронеж</td>\n",
              "      <td>32</td>\n",
              "    </tr>\n",
              "    <tr>\n",
              "      <th>11</th>\n",
              "      <td>Новосибирск</td>\n",
              "      <td>35</td>\n",
              "    </tr>\n",
              "    <tr>\n",
              "      <th>12</th>\n",
              "      <td>Нижний Новгород</td>\n",
              "      <td>36</td>\n",
              "    </tr>\n",
              "    <tr>\n",
              "      <th>13</th>\n",
              "      <td>Екатеринбург</td>\n",
              "      <td>39</td>\n",
              "    </tr>\n",
              "    <tr>\n",
              "      <th>14</th>\n",
              "      <td>Санкт-Петербург</td>\n",
              "      <td>42</td>\n",
              "    </tr>\n",
              "    <tr>\n",
              "      <th>15</th>\n",
              "      <td>Москва</td>\n",
              "      <td>54</td>\n",
              "    </tr>\n",
              "    <tr>\n",
              "      <th>16</th>\n",
              "      <td>Total :</td>\n",
              "      <td>485</td>\n",
              "    </tr>\n",
              "  </tbody>\n",
              "</table>\n",
              "</div>"
            ],
            "text/plain": [
              "               area  count\n",
              "0              Омск     21\n",
              "1         Челябинск     22\n",
              "2        Красноярск     23\n",
              "3         Волгоград     24\n",
              "4            Казань     25\n",
              "5    Ростов-на-Дону     25\n",
              "6             Пермь     25\n",
              "7            Самара     26\n",
              "8               Уфа     26\n",
              "9         Краснодар     30\n",
              "10          Воронеж     32\n",
              "11      Новосибирск     35\n",
              "12  Нижний Новгород     36\n",
              "13     Екатеринбург     39\n",
              "14  Санкт-Петербург     42\n",
              "15           Москва     54\n",
              "16          Total :    485"
            ]
          },
          "execution_count": 35,
          "metadata": {},
          "output_type": "execute_result"
        }
      ],
      "source": [
        "# результат запроса\n",
        "df = pd.read_sql_query(query, connection)\n",
        "df"
      ]
    },
    {
      "cell_type": "markdown",
      "id": "04966e40-3bc3-4dc8-9ba2-e80580ce3abc",
      "metadata": {
        "id": "04966e40-3bc3-4dc8-9ba2-e80580ce3abc"
      },
      "source": [
        "***"
      ]
    },
    {
      "cell_type": "markdown",
      "id": "44764b29",
      "metadata": {},
      "source": [
        "Больше всего вакансий размещает компания Яндекс\t(1933), далее в 3,9 раз меньше размещает вакансий компания Ростелеком, затем Тинькофф, СБЕР и Газпромнефть.\n",
        "Технологичные компании размещают больше всего вакансий.\n",
        "Яндекс размещает вакансии в самом большом количестве разных регионов.\n",
        "3553 работодателей ищут сотрудников в сфере Разработка ПО (достаточно большой выбор работодателей).\n"
      ]
    },
    {
      "cell_type": "markdown",
      "id": "b1ef156a-efcb-49ce-bb23-90763e7f35b2",
      "metadata": {
        "id": "b1ef156a-efcb-49ce-bb23-90763e7f35b2",
        "tags": []
      },
      "source": [
        "# Юнит 6. Предметный анализ"
      ]
    },
    {
      "cell_type": "markdown",
      "id": "b9cd50a0-992d-4988-8463-2b2b1c4629b4",
      "metadata": {
        "id": "b9cd50a0-992d-4988-8463-2b2b1c4629b4"
      },
      "source": [
        "1. Сколько вакансий имеет отношение к данным?\n",
        "\n",
        "Считаем, что вакансия имеет отношение к данным, если в её названии содержатся слова 'data' или 'данн'.\n",
        "\n",
        "*Подсказка: Обратите внимание, что названия вакансий могут быть написаны в любом регистре.* \n"
      ]
    },
    {
      "cell_type": "code",
      "execution_count": 4,
      "id": "54ab0e50-c0f1-47cc-a54b-bc5c8bc363f9",
      "metadata": {
        "id": "54ab0e50-c0f1-47cc-a54b-bc5c8bc363f9"
      },
      "outputs": [],
      "source": [
        "# Отбираем с помощью WHERE\n",
        "query_6_1 = f'''select \n",
        "          count(v.id)\n",
        "          from vacancies v\n",
        "          where  (v.name iLIKE '%data%') OR  (v.name iLIKE '%данн%')\n",
        "          order by  1\n",
        "          \n",
        "        '''"
      ]
    },
    {
      "cell_type": "code",
      "execution_count": 5,
      "id": "9F1meAqsuUjd",
      "metadata": {
        "id": "9F1meAqsuUjd"
      },
      "outputs": [
        {
          "name": "stderr",
          "output_type": "stream",
          "text": [
            "C:\\Users\\Nina\\AppData\\Local\\Temp\\ipykernel_26484\\366702258.py:2: UserWarning: pandas only supports SQLAlchemy connectable (engine/connection) or database string URI or sqlite3 DBAPI2 connection. Other DBAPI2 objects are not tested. Please consider using SQLAlchemy.\n",
            "  df = pd.read_sql_query(query_6_1, connection)\n"
          ]
        },
        {
          "data": {
            "text/html": [
              "<div>\n",
              "<style scoped>\n",
              "    .dataframe tbody tr th:only-of-type {\n",
              "        vertical-align: middle;\n",
              "    }\n",
              "\n",
              "    .dataframe tbody tr th {\n",
              "        vertical-align: top;\n",
              "    }\n",
              "\n",
              "    .dataframe thead th {\n",
              "        text-align: right;\n",
              "    }\n",
              "</style>\n",
              "<table border=\"1\" class=\"dataframe\">\n",
              "  <thead>\n",
              "    <tr style=\"text-align: right;\">\n",
              "      <th></th>\n",
              "      <th>count</th>\n",
              "    </tr>\n",
              "  </thead>\n",
              "  <tbody>\n",
              "    <tr>\n",
              "      <th>0</th>\n",
              "      <td>1771</td>\n",
              "    </tr>\n",
              "  </tbody>\n",
              "</table>\n",
              "</div>"
            ],
            "text/plain": [
              "   count\n",
              "0   1771"
            ]
          },
          "execution_count": 5,
          "metadata": {},
          "output_type": "execute_result"
        }
      ],
      "source": [
        "# результат запроса\n",
        "df = pd.read_sql_query(query_6_1, connection)\n",
        "df"
      ]
    },
    {
      "cell_type": "markdown",
      "id": "4dea20cb-a36b-474a-a0b9-e08e8e3857a5",
      "metadata": {
        "id": "4dea20cb-a36b-474a-a0b9-e08e8e3857a5"
      },
      "source": [
        "2. Сколько есть подходящих вакансий для начинающего дата-сайентиста? \n",
        "Будем считать вакансиями для дата-сайентистов такие, в названии которых есть хотя бы одно из следующих сочетаний:\n",
        "* 'data scientist'\n",
        "* 'data science'\n",
        "* 'исследователь данных'\n",
        "* 'ML' (здесь не нужно брать вакансии по HTML)\n",
        "* 'machine learning'\n",
        "* 'машинн%обучен%'\n",
        "\n",
        "** В следующих заданиях мы продолжим работать с вакансиями по этому условию.*\n",
        "\n",
        "Считаем вакансиями для специалистов уровня Junior следующие:\n",
        "* в названии есть слово 'junior' *или*\n",
        "* требуемый опыт — Нет опыта *или*\n",
        "* тип трудоустройства — Стажировка.\n",
        " "
      ]
    },
    {
      "cell_type": "code",
      "execution_count": 8,
      "id": "9c61b3c0-bb66-46c9-ae1e-81d3f5752b4a",
      "metadata": {
        "id": "9c61b3c0-bb66-46c9-ae1e-81d3f5752b4a"
      },
      "outputs": [],
      "source": [
        "# Отбираем с помощью Where и указанием слов, соответствующих условию\n",
        "query_6_2 = f'''select\n",
        "    count(v.name)\n",
        "    from vacancies v\n",
        "    WHERE\n",
        "(\n",
        "    (name ILIKE '%data scientist%') OR (name ILIKE '%data science%') OR (name ILIKE '%исследователь данных%')\n",
        "    OR ((name ILIKE '%ML%') AND (name NOT ILIKE '%HTML%'))\n",
        "    OR (name ILIKE '%machine learning%')\n",
        "    OR (name ILIKE '%машинн%обучен%')\n",
        "    AND (key_skills IS NOT NULL)\n",
        ")\n",
        "\n",
        "    AND (v.name ILIKE '%junior%'\n",
        "    OR v.experience ILIKE '%Нет опыта%'\n",
        "    OR v.employment ILIKE '%Стажировка%')\n",
        "    '''"
      ]
    },
    {
      "cell_type": "code",
      "execution_count": 9,
      "id": "ZNM-LLYuu1dj",
      "metadata": {
        "id": "ZNM-LLYuu1dj"
      },
      "outputs": [
        {
          "name": "stderr",
          "output_type": "stream",
          "text": [
            "C:\\Users\\Nina\\AppData\\Local\\Temp\\ipykernel_26484\\2267038862.py:2: UserWarning: pandas only supports SQLAlchemy connectable (engine/connection) or database string URI or sqlite3 DBAPI2 connection. Other DBAPI2 objects are not tested. Please consider using SQLAlchemy.\n",
            "  df = pd.read_sql_query(query_6_2, connection)\n"
          ]
        },
        {
          "data": {
            "text/html": [
              "<div>\n",
              "<style scoped>\n",
              "    .dataframe tbody tr th:only-of-type {\n",
              "        vertical-align: middle;\n",
              "    }\n",
              "\n",
              "    .dataframe tbody tr th {\n",
              "        vertical-align: top;\n",
              "    }\n",
              "\n",
              "    .dataframe thead th {\n",
              "        text-align: right;\n",
              "    }\n",
              "</style>\n",
              "<table border=\"1\" class=\"dataframe\">\n",
              "  <thead>\n",
              "    <tr style=\"text-align: right;\">\n",
              "      <th></th>\n",
              "      <th>count</th>\n",
              "    </tr>\n",
              "  </thead>\n",
              "  <tbody>\n",
              "    <tr>\n",
              "      <th>0</th>\n",
              "      <td>51</td>\n",
              "    </tr>\n",
              "  </tbody>\n",
              "</table>\n",
              "</div>"
            ],
            "text/plain": [
              "   count\n",
              "0     51"
            ]
          },
          "execution_count": 9,
          "metadata": {},
          "output_type": "execute_result"
        }
      ],
      "source": [
        "# результат запроса\n",
        "df = pd.read_sql_query(query_6_2, connection)\n",
        "df"
      ]
    },
    {
      "cell_type": "markdown",
      "id": "eedceb80-c5ca-480e-b27a-278dfb8b4438",
      "metadata": {
        "id": "eedceb80-c5ca-480e-b27a-278dfb8b4438"
      },
      "source": [
        "3. Сколько есть вакансий для DS, в которых в качестве ключевого навыка указан SQL или postgres?\n",
        "\n",
        "** Критерии для отнесения вакансии к DS указаны в предыдущем задании.*"
      ]
    },
    {
      "cell_type": "code",
      "execution_count": 19,
      "id": "69621713-0cc5-4f1b-a1d7-bb144fa6148c",
      "metadata": {
        "id": "69621713-0cc5-4f1b-a1d7-bb144fa6148c"
      },
      "outputs": [],
      "source": [
        "# Добавляем в WHERE условия по ключевым навыкам\n",
        "query_6_3 = f'''select \n",
        "     COUNT(v.id)\n",
        "\n",
        "from vacancies v\n",
        "\n",
        "WHERE ( (v.key_skills like '%SQL%')\n",
        "        or\n",
        "        (v.key_skills ilike '%postgres%')\n",
        "        )\n",
        "    AND\n",
        "(\n",
        "    (name ILIKE '%data scientist%') OR (name ILIKE '%data science%') OR (name ILIKE '%исследователь данных%')\n",
        "    OR ((name ILIKE '%ML%') AND (name NOT ILIKE '%HTML%'))\n",
        "    OR (name ILIKE '%machine learning%')\n",
        "    OR (name ILIKE '%машинн%обучен%')\n",
        "    AND (key_skills IS NOT NULL)\n",
        ")\n",
        "    \n",
        "\n",
        "   '''"
      ]
    },
    {
      "cell_type": "code",
      "execution_count": 20,
      "id": "alA8WEAAvGdf",
      "metadata": {
        "id": "alA8WEAAvGdf"
      },
      "outputs": [
        {
          "name": "stderr",
          "output_type": "stream",
          "text": [
            "C:\\Users\\Nina\\AppData\\Local\\Temp\\ipykernel_26484\\3794299702.py:2: UserWarning: pandas only supports SQLAlchemy connectable (engine/connection) or database string URI or sqlite3 DBAPI2 connection. Other DBAPI2 objects are not tested. Please consider using SQLAlchemy.\n",
            "  df = pd.read_sql_query(query_6_3, connection)\n"
          ]
        },
        {
          "data": {
            "text/html": [
              "<div>\n",
              "<style scoped>\n",
              "    .dataframe tbody tr th:only-of-type {\n",
              "        vertical-align: middle;\n",
              "    }\n",
              "\n",
              "    .dataframe tbody tr th {\n",
              "        vertical-align: top;\n",
              "    }\n",
              "\n",
              "    .dataframe thead th {\n",
              "        text-align: right;\n",
              "    }\n",
              "</style>\n",
              "<table border=\"1\" class=\"dataframe\">\n",
              "  <thead>\n",
              "    <tr style=\"text-align: right;\">\n",
              "      <th></th>\n",
              "      <th>count</th>\n",
              "    </tr>\n",
              "  </thead>\n",
              "  <tbody>\n",
              "    <tr>\n",
              "      <th>0</th>\n",
              "      <td>229</td>\n",
              "    </tr>\n",
              "  </tbody>\n",
              "</table>\n",
              "</div>"
            ],
            "text/plain": [
              "   count\n",
              "0    229"
            ]
          },
          "execution_count": 20,
          "metadata": {},
          "output_type": "execute_result"
        }
      ],
      "source": [
        "# результат запроса\n",
        "df = pd.read_sql_query(query_6_3, connection)\n",
        "df"
      ]
    },
    {
      "cell_type": "markdown",
      "id": "1be1e9c6-37cf-4a5f-bfeb-04cab799dc80",
      "metadata": {
        "id": "1be1e9c6-37cf-4a5f-bfeb-04cab799dc80"
      },
      "source": [
        "4. Проверьте, насколько популярен Python в требованиях работодателей к DS.Для этого вычислите количество вакансий, в которых в качестве ключевого навыка указан Python.\n",
        "\n",
        "** Это можно сделать помощью запроса, аналогичного предыдущему.*"
      ]
    },
    {
      "cell_type": "code",
      "execution_count": 25,
      "id": "0036a355-9ccf-4564-8b01-73d8194297e7",
      "metadata": {
        "id": "0036a355-9ccf-4564-8b01-73d8194297e7"
      },
      "outputs": [],
      "source": [
        "# Добавляем в WHERE условие отбора - ключевой навык Python\n",
        "query_6_4 = f'''select \n",
        "     COUNT(v.id)\n",
        "\n",
        "from vacancies v\n",
        "\n",
        "WHERE v.key_skills ilike '%Python%'\n",
        "        \n",
        "    AND\n",
        "(\n",
        "    (name ILIKE '%data scientist%') OR (name ILIKE '%data science%') OR (name ILIKE '%исследователь данных%')\n",
        "    OR ((name ILIKE '%ML%') AND (name NOT ILIKE '%HTML%'))\n",
        "    OR (name ILIKE '%machine learning%')\n",
        "    OR (name ILIKE '%машинн%обучен%')\n",
        "    AND (key_skills IS NOT NULL)\n",
        ")\n",
        "    \n",
        "\n",
        "   '''"
      ]
    },
    {
      "cell_type": "code",
      "execution_count": 26,
      "id": "1i-5WyucvQ6v",
      "metadata": {
        "id": "1i-5WyucvQ6v"
      },
      "outputs": [
        {
          "name": "stderr",
          "output_type": "stream",
          "text": [
            "C:\\Users\\Nina\\AppData\\Local\\Temp\\ipykernel_26484\\4264665179.py:2: UserWarning: pandas only supports SQLAlchemy connectable (engine/connection) or database string URI or sqlite3 DBAPI2 connection. Other DBAPI2 objects are not tested. Please consider using SQLAlchemy.\n",
            "  df = pd.read_sql_query(query_6_4, connection)\n"
          ]
        },
        {
          "data": {
            "text/html": [
              "<div>\n",
              "<style scoped>\n",
              "    .dataframe tbody tr th:only-of-type {\n",
              "        vertical-align: middle;\n",
              "    }\n",
              "\n",
              "    .dataframe tbody tr th {\n",
              "        vertical-align: top;\n",
              "    }\n",
              "\n",
              "    .dataframe thead th {\n",
              "        text-align: right;\n",
              "    }\n",
              "</style>\n",
              "<table border=\"1\" class=\"dataframe\">\n",
              "  <thead>\n",
              "    <tr style=\"text-align: right;\">\n",
              "      <th></th>\n",
              "      <th>count</th>\n",
              "    </tr>\n",
              "  </thead>\n",
              "  <tbody>\n",
              "    <tr>\n",
              "      <th>0</th>\n",
              "      <td>357</td>\n",
              "    </tr>\n",
              "  </tbody>\n",
              "</table>\n",
              "</div>"
            ],
            "text/plain": [
              "   count\n",
              "0    357"
            ]
          },
          "execution_count": 26,
          "metadata": {},
          "output_type": "execute_result"
        }
      ],
      "source": [
        "# результат запроса\n",
        "df = pd.read_sql_query(query_6_4, connection)\n",
        "df"
      ]
    },
    {
      "cell_type": "markdown",
      "id": "ec3c8db7-fa21-4a41-a994-1af63742a642",
      "metadata": {
        "id": "ec3c8db7-fa21-4a41-a994-1af63742a642"
      },
      "source": [
        "5. Сколько ключевых навыков в среднем указывают в вакансиях для DS?\n",
        "Ответ округлите до двух знаков после точки-разделителя."
      ]
    },
    {
      "cell_type": "code",
      "execution_count": 27,
      "id": "949132bc-d5b6-4611-8218-0b9a504d74f4",
      "metadata": {
        "id": "949132bc-d5b6-4611-8218-0b9a504d74f4"
      },
      "outputs": [],
      "source": [
        "# Отбираем вакансии для DS, вычисляем среднее значение\n",
        "query_6_5 = f'''SELECT \n",
        "                    ROUND(AVG(\n",
        "                        LENGTH(v.key_skills) - LENGTH(REPLACE(v.key_skills, CHR(9), '')) + 1\n",
        "                        ), 2) AS \"Среднее количество навыков\"\n",
        "                FROM public.vacancies v\n",
        "                WHERE \n",
        "                    (v.name ILIKE '%data scientist%' OR \n",
        "                    v.name ILIKE '%data science%' OR\n",
        "                    v.name ILIKE '%исследователь данных%' OR\n",
        "                    (v.name LIKE '%ML%' AND v.name NOT ILIKE '%HTML%') OR\n",
        "                    v.name ILIKE '%machine learning%' OR\n",
        "                    v.name ILIKE '%машинн%обучен%%') \n",
        "'''"
      ]
    },
    {
      "cell_type": "code",
      "execution_count": 28,
      "id": "a3V24Tvmviqk",
      "metadata": {
        "id": "a3V24Tvmviqk"
      },
      "outputs": [
        {
          "name": "stderr",
          "output_type": "stream",
          "text": [
            "C:\\Users\\Nina\\AppData\\Local\\Temp\\ipykernel_26484\\3654210517.py:2: UserWarning: pandas only supports SQLAlchemy connectable (engine/connection) or database string URI or sqlite3 DBAPI2 connection. Other DBAPI2 objects are not tested. Please consider using SQLAlchemy.\n",
            "  df = pd.read_sql_query(query_6_5, connection)\n"
          ]
        },
        {
          "data": {
            "text/html": [
              "<div>\n",
              "<style scoped>\n",
              "    .dataframe tbody tr th:only-of-type {\n",
              "        vertical-align: middle;\n",
              "    }\n",
              "\n",
              "    .dataframe tbody tr th {\n",
              "        vertical-align: top;\n",
              "    }\n",
              "\n",
              "    .dataframe thead th {\n",
              "        text-align: right;\n",
              "    }\n",
              "</style>\n",
              "<table border=\"1\" class=\"dataframe\">\n",
              "  <thead>\n",
              "    <tr style=\"text-align: right;\">\n",
              "      <th></th>\n",
              "      <th>Среднее количество навыков</th>\n",
              "    </tr>\n",
              "  </thead>\n",
              "  <tbody>\n",
              "    <tr>\n",
              "      <th>0</th>\n",
              "      <td>6.41</td>\n",
              "    </tr>\n",
              "  </tbody>\n",
              "</table>\n",
              "</div>"
            ],
            "text/plain": [
              "   Среднее количество навыков\n",
              "0                        6.41"
            ]
          },
          "execution_count": 28,
          "metadata": {},
          "output_type": "execute_result"
        }
      ],
      "source": [
        "# результат запроса\n",
        "df = pd.read_sql_query(query_6_5, connection)\n",
        "df"
      ]
    },
    {
      "cell_type": "markdown",
      "id": "1041c17a-ca8f-4543-a0ca-32778914fb00",
      "metadata": {
        "id": "1041c17a-ca8f-4543-a0ca-32778914fb00"
      },
      "source": [
        "6. Напишите запрос, позволяющий вычислить, какую зарплату для DS в **среднем** указывают для каждого типа требуемого опыта (уникальное значение из поля *experience*). \n",
        "\n",
        "При решении задачи примите во внимание следующее:\n",
        "1. Рассматриваем только вакансии, у которых заполнено хотя бы одно из двух полей с зарплатой.\n",
        "2. Если заполнены оба поля с зарплатой, то считаем зарплату по каждой вакансии как сумму двух полей, делённую на 2. Если заполнено только одно из полей, то его и считаем зарплатой по вакансии.\n",
        "3. Если в расчётах участвует null, в результате он тоже даст null (посмотрите, что возвращает запрос select 1 + null). Чтобы избежать этой ситуацию, мы воспользуемся функцией [coalesce](https://postgrespro.ru/docs/postgresql/9.5/functions-conditional#functions-coalesce-nvl-ifnull), которая заменит null на значение, которое мы передадим. Например, посмотрите, что возвращает запрос `select 1 + coalesce(null, 0)`\n",
        "\n",
        "Выясните, на какую зарплату в среднем может рассчитывать дата-сайентист с опытом работы от 3 до 6 лет. Результат округлите до целого числа. "
      ]
    },
    {
      "cell_type": "code",
      "execution_count": 29,
      "id": "6a743d39-5204-48d3-8271-b9f88e68d40e",
      "metadata": {
        "id": "6a743d39-5204-48d3-8271-b9f88e68d40e"
      },
      "outputs": [],
      "source": [
        "# Считаем среднее значение заработной платы для дата-саентистов с разным опытом работы\n",
        "query_6_6 = f'''select\n",
        "\n",
        "  v.experience, ROUND(AVG(coalesce((v.salary_from + v.salary_to) / 2, v.salary_from, v.salary_to)), 0)\n",
        "\n",
        "from vacancies v\n",
        "\n",
        "WHERE\n",
        "(\n",
        "       (v.name ILIKE '%data scientist%')\n",
        "    OR (lower(v.name) ILIKE '%data science%')\n",
        "    OR (v.name ILIKE '%исследователь данных%')\n",
        "    OR (v.name  LIKE '%ML%' AND  (v.name NOT iLIKE '%html%'))\n",
        "    OR (v.name ILIKE '%machine learning%')\n",
        "    OR (v.name ILIKE '%машинн%обучен%')\n",
        "    AND (key_skills IS NOT NULL)\n",
        ")\n",
        "\n",
        "GROUP BY v.experience\n",
        "ORDER BY 1\n",
        "'''"
      ]
    },
    {
      "cell_type": "code",
      "execution_count": 30,
      "id": "aRIJ0mZEwU1_",
      "metadata": {
        "id": "aRIJ0mZEwU1_"
      },
      "outputs": [
        {
          "name": "stderr",
          "output_type": "stream",
          "text": [
            "C:\\Users\\Nina\\AppData\\Local\\Temp\\ipykernel_26484\\519194770.py:2: UserWarning: pandas only supports SQLAlchemy connectable (engine/connection) or database string URI or sqlite3 DBAPI2 connection. Other DBAPI2 objects are not tested. Please consider using SQLAlchemy.\n",
            "  df = pd.read_sql_query(query_6_6, connection)\n"
          ]
        },
        {
          "data": {
            "text/html": [
              "<div>\n",
              "<style scoped>\n",
              "    .dataframe tbody tr th:only-of-type {\n",
              "        vertical-align: middle;\n",
              "    }\n",
              "\n",
              "    .dataframe tbody tr th {\n",
              "        vertical-align: top;\n",
              "    }\n",
              "\n",
              "    .dataframe thead th {\n",
              "        text-align: right;\n",
              "    }\n",
              "</style>\n",
              "<table border=\"1\" class=\"dataframe\">\n",
              "  <thead>\n",
              "    <tr style=\"text-align: right;\">\n",
              "      <th></th>\n",
              "      <th>experience</th>\n",
              "      <th>round</th>\n",
              "    </tr>\n",
              "  </thead>\n",
              "  <tbody>\n",
              "    <tr>\n",
              "      <th>0</th>\n",
              "      <td>Более 6 лет</td>\n",
              "      <td>NaN</td>\n",
              "    </tr>\n",
              "    <tr>\n",
              "      <th>1</th>\n",
              "      <td>Нет опыта</td>\n",
              "      <td>74643.0</td>\n",
              "    </tr>\n",
              "    <tr>\n",
              "      <th>2</th>\n",
              "      <td>От 1 года до 3 лет</td>\n",
              "      <td>145236.0</td>\n",
              "    </tr>\n",
              "    <tr>\n",
              "      <th>3</th>\n",
              "      <td>От 3 до 6 лет</td>\n",
              "      <td>243115.0</td>\n",
              "    </tr>\n",
              "  </tbody>\n",
              "</table>\n",
              "</div>"
            ],
            "text/plain": [
              "           experience     round\n",
              "0         Более 6 лет       NaN\n",
              "1           Нет опыта   74643.0\n",
              "2  От 1 года до 3 лет  145236.0\n",
              "3       От 3 до 6 лет  243115.0"
            ]
          },
          "execution_count": 30,
          "metadata": {},
          "output_type": "execute_result"
        }
      ],
      "source": [
        "# результат запроса\n",
        "df = pd.read_sql_query(query_6_6, connection)\n",
        "df"
      ]
    },
    {
      "cell_type": "markdown",
      "id": "6a7892b4-4113-4746-adce-18aa2844f18e",
      "metadata": {
        "id": "6a7892b4-4113-4746-adce-18aa2844f18e"
      },
      "source": [
        "***"
      ]
    },
    {
      "cell_type": "markdown",
      "id": "78434ff8",
      "metadata": {},
      "source": [
        "Всего вакансий по работе с данными 1771, для начинающих DS (без опыта) 51, т.е. 2,8%.\n",
        "В основном работодатели ищут специалистов с опытом работы.\n",
        "В качестве ключевого опыта SQL указано 229 вакансий, для Pethon 357.\n",
        "Целесообразно понять, какой еще опыт требуется для DS (т.к. всего в среднем работодатели указывают 6.41 ключевых навыков).\n",
        "Каждые 3 года опыта увеличивают заработную плату в 2 раза."
      ]
    },
    {
      "cell_type": "markdown",
      "id": "c0ED6fh7wiBT",
      "metadata": {
        "id": "c0ED6fh7wiBT"
      },
      "source": [
        "# Общий вывод по проекту"
      ]
    },
    {
      "cell_type": "markdown",
      "id": "9c382ff0",
      "metadata": {},
      "source": [
        "Самое больше количество вакансий у технологичных компаний. Это отражает развитие мирового тренда цифровой экономики и экономики данных. \n",
        "Работодатели в сфере DS хотят нанимать работников с опытом работы.\n",
        "Распределение вакансий по регионам не равномерно. Самое большое количество в городах миллионниках, столицах. \n",
        "Работников в основном ищут на полный день и полную занятость.\n",
        "\n",
        "Можно провести исследование рынка удаленной работы (т.к. это даст возможность работать удаленно из регионов и закрыть вакансии в городах миллионниках). Провести исследование по годам, с какой скоростью растет запрос на технологичных работников и предсказать тренд - какая потребность будет в будущем. Какие навыки в будущем будут актуальны. Определить ключевые навыки - которые влекут резкое увеличение заработной платы.\n",
        "\n",
        "Дополнительное исследование проводится с целью понять, какие навыки развивать с целью работы в Data Science."
      ]
    },
    {
      "cell_type": "markdown",
      "id": "a4750ab7",
      "metadata": {},
      "source": [
        "Цель дополнительного исследования понять, какие еще навыки нужны для DS, помимо Python и SQL. Вывести ТОП-15."
      ]
    },
    {
      "cell_type": "code",
      "execution_count": 105,
      "id": "9b934c42",
      "metadata": {},
      "outputs": [],
      "source": [
        "# Запрос для понимания сколько всего вакансий размещено в DS\n",
        "query_7_0 = f'''select\n",
        "    count(v.id)\n",
        "    from vacancies v\n",
        "    WHERE\n",
        "(\n",
        "    (name ILIKE '%data scientist%') OR (name ILIKE '%data science%') OR (name ILIKE '%исследователь данных%')\n",
        "    OR ((name ILIKE '%ML%') AND (name NOT ILIKE '%HTML%'))\n",
        "    OR (name ILIKE '%machine learning%')\n",
        "    OR (name ILIKE '%машинн%обучен%')\n",
        "    AND (key_skills IS NOT NULL)\n",
        ")\n",
        "    '''"
      ]
    },
    {
      "cell_type": "code",
      "execution_count": 106,
      "id": "b9d3286b",
      "metadata": {},
      "outputs": [
        {
          "name": "stderr",
          "output_type": "stream",
          "text": [
            "C:\\Users\\Nina\\AppData\\Local\\Temp\\ipykernel_9604\\179480186.py:1: UserWarning: pandas only supports SQLAlchemy connectable (engine/connection) or database string URI or sqlite3 DBAPI2 connection. Other DBAPI2 objects are not tested. Please consider using SQLAlchemy.\n",
            "  df = pd.read_sql_query(query_7_0, connection)\n"
          ]
        },
        {
          "data": {
            "text/html": [
              "<div>\n",
              "<style scoped>\n",
              "    .dataframe tbody tr th:only-of-type {\n",
              "        vertical-align: middle;\n",
              "    }\n",
              "\n",
              "    .dataframe tbody tr th {\n",
              "        vertical-align: top;\n",
              "    }\n",
              "\n",
              "    .dataframe thead th {\n",
              "        text-align: right;\n",
              "    }\n",
              "</style>\n",
              "<table border=\"1\" class=\"dataframe\">\n",
              "  <thead>\n",
              "    <tr style=\"text-align: right;\">\n",
              "      <th></th>\n",
              "      <th>count</th>\n",
              "    </tr>\n",
              "  </thead>\n",
              "  <tbody>\n",
              "    <tr>\n",
              "      <th>0</th>\n",
              "      <td>533</td>\n",
              "    </tr>\n",
              "  </tbody>\n",
              "</table>\n",
              "</div>"
            ],
            "text/plain": [
              "   count\n",
              "0    533"
            ]
          },
          "execution_count": 106,
          "metadata": {},
          "output_type": "execute_result"
        }
      ],
      "source": [
        "df = pd.read_sql_query(query_7_0, connection)\n",
        "df"
      ]
    },
    {
      "cell_type": "markdown",
      "id": "8ad9d40a",
      "metadata": {},
      "source": [
        "Всего для DS 533 вакансии, из них 51 вакансия для начинающих 9,5%.\n",
        "Из 533 вакансий, в качестве ключевого опыта SQL указано 229 вакансий (42,9%), для Python 357 (66,97%).\n",
        "Какие еще требуются навыки, как часто их указывают?"
      ]
    },
    {
      "cell_type": "code",
      "execution_count": 133,
      "id": "391f3b7a",
      "metadata": {},
      "outputs": [],
      "source": [
        "# Создаем таблицу со всеми ключевыми навыками, которые указывают в DS\n",
        "query_7 = f'''SELECT \n",
        "                    v.key_skills\n",
        "                    \n",
        "                FROM public.vacancies v\n",
        "                WHERE \n",
        "                   (name ILIKE '%data scientist%') OR (name ILIKE '%data science%') OR (name ILIKE '%исследователь данных%')\n",
        "    OR ((name ILIKE '%ML%') AND (name NOT ILIKE '%HTML%'))\n",
        "    OR (name ILIKE '%machine learning%')\n",
        "    OR (name ILIKE '%машинн%обучен%')\n",
        "    AND (key_skills IS NOT NULL)\n",
        "'''"
      ]
    },
    {
      "cell_type": "code",
      "execution_count": 134,
      "id": "e1737fab",
      "metadata": {},
      "outputs": [
        {
          "name": "stderr",
          "output_type": "stream",
          "text": [
            "C:\\Users\\Nina\\AppData\\Local\\Temp\\ipykernel_9604\\2767996417.py:1: UserWarning: pandas only supports SQLAlchemy connectable (engine/connection) or database string URI or sqlite3 DBAPI2 connection. Other DBAPI2 objects are not tested. Please consider using SQLAlchemy.\n",
            "  df = pd.read_sql_query(query_7, connection)\n"
          ]
        },
        {
          "data": {
            "text/html": [
              "<div>\n",
              "<style scoped>\n",
              "    .dataframe tbody tr th:only-of-type {\n",
              "        vertical-align: middle;\n",
              "    }\n",
              "\n",
              "    .dataframe tbody tr th {\n",
              "        vertical-align: top;\n",
              "    }\n",
              "\n",
              "    .dataframe thead th {\n",
              "        text-align: right;\n",
              "    }\n",
              "</style>\n",
              "<table border=\"1\" class=\"dataframe\">\n",
              "  <thead>\n",
              "    <tr style=\"text-align: right;\">\n",
              "      <th></th>\n",
              "      <th>key_skills</th>\n",
              "    </tr>\n",
              "  </thead>\n",
              "  <tbody>\n",
              "    <tr>\n",
              "      <th>0</th>\n",
              "      <td>Python\\tSQL\\tРабота в команде\\tOpenCV\\tML</td>\n",
              "    </tr>\n",
              "    <tr>\n",
              "      <th>1</th>\n",
              "      <td>Oracle Pl/SQL\\tБазы данных\\tMachine Learning\\t...</td>\n",
              "    </tr>\n",
              "    <tr>\n",
              "      <th>2</th>\n",
              "      <td>Python\\tOpenCV\\tTensorflow\\tComputer Vision\\tН...</td>\n",
              "    </tr>\n",
              "    <tr>\n",
              "      <th>3</th>\n",
              "      <td>Python\\tFlask\\tLinux\\tAWS\\tGit</td>\n",
              "    </tr>\n",
              "    <tr>\n",
              "      <th>4</th>\n",
              "      <td>Atlassian Jira\\tФункциональное тестирование\\tS...</td>\n",
              "    </tr>\n",
              "    <tr>\n",
              "      <th>...</th>\n",
              "      <td>...</td>\n",
              "    </tr>\n",
              "    <tr>\n",
              "      <th>528</th>\n",
              "      <td>Qt\\tООП\\tC++\\tMS Visual Studio\\tРазработка ком...</td>\n",
              "    </tr>\n",
              "    <tr>\n",
              "      <th>529</th>\n",
              "      <td>SCALA\\tSQL\\tМатематический анализ\\tСтатистичес...</td>\n",
              "    </tr>\n",
              "    <tr>\n",
              "      <th>530</th>\n",
              "      <td>Python\\tLinux\\tKubernetes\\tAWS\\tGit\\tPeople Ma...</td>\n",
              "    </tr>\n",
              "    <tr>\n",
              "      <th>531</th>\n",
              "      <td>UML\\tSQL\\tBPMN\\tSOAP\\tREST\\tПостановка задач р...</td>\n",
              "    </tr>\n",
              "    <tr>\n",
              "      <th>532</th>\n",
              "      <td>Git\\tJavaScript\\tHTML\\tCSS\\tVue.js\\tVue\\tREST ...</td>\n",
              "    </tr>\n",
              "  </tbody>\n",
              "</table>\n",
              "<p>533 rows × 1 columns</p>\n",
              "</div>"
            ],
            "text/plain": [
              "                                            key_skills\n",
              "0            Python\\tSQL\\tРабота в команде\\tOpenCV\\tML\n",
              "1    Oracle Pl/SQL\\tБазы данных\\tMachine Learning\\t...\n",
              "2    Python\\tOpenCV\\tTensorflow\\tComputer Vision\\tН...\n",
              "3                       Python\\tFlask\\tLinux\\tAWS\\tGit\n",
              "4    Atlassian Jira\\tФункциональное тестирование\\tS...\n",
              "..                                                 ...\n",
              "528  Qt\\tООП\\tC++\\tMS Visual Studio\\tРазработка ком...\n",
              "529  SCALA\\tSQL\\tМатематический анализ\\tСтатистичес...\n",
              "530  Python\\tLinux\\tKubernetes\\tAWS\\tGit\\tPeople Ma...\n",
              "531  UML\\tSQL\\tBPMN\\tSOAP\\tREST\\tПостановка задач р...\n",
              "532  Git\\tJavaScript\\tHTML\\tCSS\\tVue.js\\tVue\\tREST ...\n",
              "\n",
              "[533 rows x 1 columns]"
            ]
          },
          "execution_count": 134,
          "metadata": {},
          "output_type": "execute_result"
        }
      ],
      "source": [
        "df = pd.read_sql_query(query_7, connection)\n",
        "df"
      ]
    },
    {
      "cell_type": "code",
      "execution_count": 135,
      "id": "1352ac7f",
      "metadata": {},
      "outputs": [
        {
          "name": "stdout",
          "output_type": "stream",
          "text": [
            "['Python', 'SQL', 'Работа в команде', 'OpenCV', 'ML', 'Oracle Pl/SQL', 'Базы данных', 'Machine Learning', 'Машинное обучение', 'Git', 'Data science', 'Работа с базами данных', 'Математические модели', 'Tensorflow', 'Computer Vision', 'Нейронные сети', 'C++', 'С#', 'Caffe', 'Flask', 'Linux', 'AWS', 'Atlassian Jira', 'Функциональное тестирование', 'Тестирование', 'Blockchain', 'Регресcионное тестирование', 'Jira', 'Автоматизированное тестирование', 'Java', 'Проведение тестирований', 'Нагрузочное тестирование', 'Разработка ПО', 'JavaScript', 'MySQL', 'Веб-программирование', 'CSS', 'PHP5', 'ООП', 'PHP', 'Постановка задач разработчикам', 'руководство командой разработчиков', 'HTML5', 'laravel', 'vue', 'react', 'DDD', 'devops', 'NLP', 'Scikit-learn', 'Поиск информации в интернет', 'Математическая статистика', 'Математический анализ', 'Qt', 'VoIP', 'TCP/IP', 'QML', 'Bash', 'Sas', 'MS PowerPoint', 'Анализ данных', 'Data Mining', 'machine learning', 'SCALA', 'Big Data', 'Data Analysis', 'MATLAB', 'Математическое моделирование', 'Английский язык', 'Microsoft', 'VMware', 'CentOS', 'MS SQL Server', 'ORACLE', 'Cisco', 'SCOM', 'ITSM', 'Learning to Rank', 'Data Science', 'Анализ временных рядов', 'Кластерный анализ', 'R', 'MS SQL', 'SAP', 'SAP MM', 'Teamleading', 'Работа с большим объемом информации', 'Статистический анализ', 'Deep Learning', 'математика', 'теория групп', 'алгебра Ли', 'прикладная математика', 'Docker', 'PyTorch', 'C/C++', 'Machine learning', 'Pandas', 'Numpy', 'Cистемы управления базами данных', 'TensorFlow', 'MLOps', 'Google Cloud', 'Алгоритмы и структуры данных', 'Jupyter Notebook', 'PostgreSQL', 'Django Framework', 'pandas NumPy', 'MongoDB', 'API', 'Веб-аналитика', 'Node.js', 'TypeScript', 'React', 'Redux', 'Аналитические исследования', 'Налоговое законодательство', 'Аналитика продаж', 'Деловая переписка', 'Pytorch', 'web security', 'sklearn', 'pytorch', 'docker', 'Laravel', 'Управление командой', 'Лидерство', 'k8s', 'BPMN', 'Backend', 'Работа с большим пулом запросов', 'CI/CD', 'Разработка продукта', 'Agile', 'Аналитика', 'Ведение переговоров', 'Scrum', 'Kanban', 'Удаленная работа', 'HTTP', 'People Management', 'XML', 'Keras', 'Matplotlib', 'SciPy', 'PyCharm', 'MS Visual Studio', 'Разработка компьютерных Игр', 'Spring Framework', 'Jupiter', 'mathematica', 'Agile Project Management', 'Обучение и развитие', 'Деловая коммуникация', 'Валидация моделей', 'Модельный риск', 'Hibernate ORM', 'Внутренние коммуникации', 'Управление разработкой', 'Team management', 'Прогнозирование', 'Feature Engineering', 'Digital Marketing', 'Внутренний аудит контекстной рекламы', 'CRM', 'Маркетинговый анализ', 'Навыки презентации', 'Проведение рекламных кампаний', 'Лидогенерация', 'MailChimp', 'KPI', 'ABC-анализ', 'WEB аналитика', 'оптимизация рекламных кампаний', 'B2B Продажи', 'Ведение активных клиентов', 'Analyst', 'SPSS', 'Statistica', 'Анализ бизнес показателей', 'CRISP-DM', 'Методы машинного обучения', 'R-language', 'Iron Python', 'дистанционная работа', 'Построение предиктивных моделей', 'Elasticsearch', 'RabbitMQ', 'Go', 'Kubernetes', 'C#', 'Azure', 'English Language', 'clickhouse', 'go', 'Аналитическое мышление', 'Golang', 'Управление проектами', 'NLP: BERT, CatBoost, RegExp', '• CV: object detection, segmentation, scene detection, video analytics', 'Audio analytics', 'TensorRT', 'MLFlow', 'Kubernetis', 'AirFlow', 'Dagster', 'Graphana(Prometeus)', 'ClickHouse', 'Atlassian Confluence', 'Проверка гипотез', 'Статистика', 'Исследование данных', 'Hadoop', 'Spark', 'ERP', 'CatBoost', 'Рекомендательные системы', 'Алгоритмы', 'Mathematical Statistics', 'Нейросети', 'Градиентный бустинг', 'Экономический анализ', 'Бизнес-анализ', 'Kotlin', 'Apache Kafka', 'Kafka', 'Оптимизация кода', 'Production', 'JS', 'Высшее образование', 'Сбор и анализ информации', 'Google Sheets', 'Power Pivot', 'Power BI', 'Data Engineer', 'Tableau', 'Python/R', 'Data Scientist', 'VBA', 'Регрессионный анализ', 'Python 3.8+', 'Numpy Pandas', 'Широкий кругозор', 'Умение работать в условиях многозадачности', 'Продуктивность', 'внимательность к деталям, умение работать с большими объемами информации', 'OCR', 'машинное зрение', 'data science', 'Разработка поисковых технологий', 'Adobe Photoshop', 'Моделирование', 'BERT', 'Организация мероприятий', 'Деловое общение', 'Kuberflow', 'кредитные риски', 'Проведение презентаций', 'PD/EAD/LGD', 'Анализ рисков', 'Риск-менеджмент', 'Grafana', 'Розничный риск', 'Умение принимать решения', 'DS', 'DL', 'Анализ АБС', 'AML', 'Управление требованиями', 'Работа с банками', 'Compliance', 'Cython', 'С++', 'Word2vec', 'Xgboost', 'ARIS', 'Colvir', 'Banking compliance', 'Валютный контроль', 'Разработка технических заданий', 'Написание технических заданий', 'Моделирование бизнес процессов', 'UML', 'SOAP', 'REST', 'Unix', 'Подготовка презентаций', 'Power Query', 'Подготовка отчетов', 'Сводные таблицы', 'NumPy', 'Теория вероятности', 'Линейная алгебра', 'Research', 'Анализ больших данных', 'Теория вероятностей', 'XGBoost', 'numpy', 'IT', 'Olap (online analytical processing)', 'Организаторские навыки', 'Ориентация на результат', 'Ms Power BI', 'Pover Pivot', 'MS Excel', 'Web Speech API', 'Stanford Core NLP', 'Модерация', 'Конференции', 'Написание статей', 'Маркетинговые исследования', 'Исследования рынка', 'Искусственный интеллект', 'CV', 'AI', 'навыки статистической обработки данных', 'Аналитические навыки', 'Vue.js', 'tensorflow', 'BI', 'А/Б тесты', 'BigQuery', 'EDA', 'Sklearn', '1С-Битрикс', 'Bitrix', 'Magento', 'WordPress', 'СУБД', 'Perl', 'Nginx', 'Коммуникативные навыки', '3D', 'Transact-SQL', '.NET Framework', 'WPF', '.NET', 'Системный анализ', 'golang', 'blockchain', 'Менеджмент', 'Умение быстро усваивать новую информацию', 'Знание программ', 'Программирование', 'Руководство людьми', 'PL/SQL', 'HTML', 'Teamlead', 'Team lead', 'Java Script', 'Стремление к карьерному росту', 'Supply chain', 'Автозаказ', 'Pandas, Numpy, Keras, Pytorch, SciPy, Flask', 'Jenkins', 'Apache Maven', 'Google Analytics', 'R&D', 'Research methodologies', 'Ph.D', 'Publications', 'Math', 'Algorithms', 'Communication skills', 'Linear algebra', 'Probability theory', 'Statistics', 'Optimization theory', 'Креативность', 'recommendation system', 'ranking', 'feed', 'Greenplum', 'Hive', 'Impala', 'Oozie', 'Pyspark', 'Оценка рисков', 'Управление рисками', 'PD, LGD, EAD', 'Портфельные риски', 'ETL', 'GreenPlum', 'Business Intelligence Systems', 'Time management', 'JupyterHub', 'GitLab', 'GitLab CI', 'MS Visio', 'Specifications', 'Предиктивная аналитика', 'AWS Cloud', '3D Data Cloud', 'SOLID', 'Clickhouse', 'Airflow', 'ElasticSearch', 'Kaggle', 'Знание стека DS', 'Знание теории машинного обучения, теории вероятностей, основ математического анализа', 'Основы алгоритмов и структур данных', 'Spring Boot', 'Разработка алгоритмов для NLP', 'Написание парсеров, автоматизаций', 'Блокчейн', 'Написание научный статей', 'kaldi', 'Teradata', 'pandas', 'scipy', 'plotly', 'xgboost', 'Проектная документация', 'Проектирование пользовательского интерфейса', 'Проектирование логической модели данных', 'IDEF', 'EPC', 'confluence', 'jira', 'GitHub', 'Selenium IDE', 'WebRTC', 'A/B тесты', 'Математическое программирование', 'Разработка нового продукта', 'Системное мышление', 'DVC', 'K8S', 'Terraform', 'Автоматизация технологических процессов', 'машинное обучение', 'deep learning', 'II', 'Team Lead', 'Бизнес-аналитика', 'Коммуникация', 'Системность', 'Высокая степень ответственности', 'Бенчмаркинг', 'basel', 'ИИ', 'Yarn', 'TinyML', 'Embedded', 'Solution Architect', 'Архитектор решений', 'С', 'nlp', 'Classic Machine Learning', 'Zepellin', 'Product Management', 'линейные модели', 'Random Forest', 'Gradient Boosting', 'CJM', 'Анализ рынка', 'FinTech', 'Neural Networks', 'Classification', 'NLU', 'Language Modeling', 'Intent Classification', 'Чат-бот', 'Автоматизация процессов', 'Стратегия', 'kubernetes', 'Написание научных статей', 'Искусственный интеллект AI', 'Market Research', 'Business Analysis', 'Информационная безопасность', 'IDA', 'Ghidra', 'искусственный интеллект', 'TeamCity', 'Gitlab', 'Openshift', 'Nexus', 'Dataiku', 'Высокий уровень самоорганизации', 'Желание работать и развиваться', 'Unreal Engine 4', 'Ansible', 'Visual Studio C#', 'Наставничество', 'Reviewing', 'Визуализация данных', 'Умение анализировать', 'Mathematical Analysis', 'Управление персоналом', 'MVC', 'Vue', 'Анализ кода', 'Математическая логика', 'алгоритмы', 'computer vision', 'Гибкость', 'Windows Server', 'Hyper-V', 'ITIL', 'Mathematica', '1С программирование', '1С: Предприятие 8', '1C: Бухгалтерия', '1C ERP', '1С: Зарплата и управление персоналом', '1С: Документооборот', 'Tesseract', 'Jupyter', 'PMBOK', 'CUDA', 'Gstreamer', 'Deepstreamer', 'нейронные сети', 'Github', 'OpenDNS', 'network security', 'Yii', 'Подбор персонала', 'Обучение', 'Опыт руководства', 'Планирование и организация', 'Data scientist', 'AutoML', 'АСУ ТП', 'временные ряды', 'REST API', 'Bitbucket', 'Ajax', 'Не заполнено']\n",
            "530\n"
          ]
        }
      ],
      "source": [
        "# Создаем список ключевых навыков\n",
        "skill_list = []\n",
        "for object in df['key_skills']:\n",
        "   if not object:\n",
        "      continue\n",
        "   else:\n",
        "      myList = object.split('\\t')\n",
        "      for word in myList:\n",
        "         if word not in skill_list:  # если строка не в списке\n",
        "            skill_list.append(word)  # добавляем её\n",
        "\n",
        "skill_list.append('Не заполнено')     \n",
        "print(skill_list)\n",
        "print(len(skill_list))\n",
        "   "
      ]
    },
    {
      "cell_type": "markdown",
      "id": "eea6241d",
      "metadata": {},
      "source": [
        "Всего в вакансиях указывают 530 различных ключевых навыков."
      ]
    },
    {
      "cell_type": "code",
      "execution_count": 136,
      "id": "20cd4b75",
      "metadata": {},
      "outputs": [
        {
          "name": "stdout",
          "output_type": "stream",
          "text": [
            "{'Python': None, 'SQL': None, 'Работа в команде': None, 'OpenCV': None, 'ML': None, 'Oracle Pl/SQL': None, 'Базы данных': None, 'Machine Learning': None, 'Машинное обучение': None, 'Git': None, 'Data science': None, 'Работа с базами данных': None, 'Математические модели': None, 'Tensorflow': None, 'Computer Vision': None, 'Нейронные сети': None, 'C++': None, 'С#': None, 'Caffe': None, 'Flask': None, 'Linux': None, 'AWS': None, 'Atlassian Jira': None, 'Функциональное тестирование': None, 'Тестирование': None, 'Blockchain': None, 'Регресcионное тестирование': None, 'Jira': None, 'Автоматизированное тестирование': None, 'Java': None, 'Проведение тестирований': None, 'Нагрузочное тестирование': None, 'Разработка ПО': None, 'JavaScript': None, 'MySQL': None, 'Веб-программирование': None, 'CSS': None, 'PHP5': None, 'ООП': None, 'PHP': None, 'Постановка задач разработчикам': None, 'руководство командой разработчиков': None, 'HTML5': None, 'laravel': None, 'vue': None, 'react': None, 'DDD': None, 'devops': None, 'NLP': None, 'Scikit-learn': None, 'Поиск информации в интернет': None, 'Математическая статистика': None, 'Математический анализ': None, 'Qt': None, 'VoIP': None, 'TCP/IP': None, 'QML': None, 'Bash': None, 'Sas': None, 'MS PowerPoint': None, 'Анализ данных': None, 'Data Mining': None, 'machine learning': None, 'SCALA': None, 'Big Data': None, 'Data Analysis': None, 'MATLAB': None, 'Математическое моделирование': None, 'Английский язык': None, 'Microsoft': None, 'VMware': None, 'CentOS': None, 'MS SQL Server': None, 'ORACLE': None, 'Cisco': None, 'SCOM': None, 'ITSM': None, 'Learning to Rank': None, 'Data Science': None, 'Анализ временных рядов': None, 'Кластерный анализ': None, 'R': None, 'MS SQL': None, 'SAP': None, 'SAP MM': None, 'Teamleading': None, 'Работа с большим объемом информации': None, 'Статистический анализ': None, 'Deep Learning': None, 'математика': None, 'теория групп': None, 'алгебра Ли': None, 'прикладная математика': None, 'Docker': None, 'PyTorch': None, 'C/C++': None, 'Machine learning': None, 'Pandas': None, 'Numpy': None, 'Cистемы управления базами данных': None, 'TensorFlow': None, 'MLOps': None, 'Google Cloud': None, 'Алгоритмы и структуры данных': None, 'Jupyter Notebook': None, 'PostgreSQL': None, 'Django Framework': None, 'pandas NumPy': None, 'MongoDB': None, 'API': None, 'Веб-аналитика': None, 'Node.js': None, 'TypeScript': None, 'React': None, 'Redux': None, 'Аналитические исследования': None, 'Налоговое законодательство': None, 'Аналитика продаж': None, 'Деловая переписка': None, 'Pytorch': None, 'web security': None, 'sklearn': None, 'pytorch': None, 'docker': None, 'Laravel': None, 'Управление командой': None, 'Лидерство': None, 'k8s': None, 'BPMN': None, 'Backend': None, 'Работа с большим пулом запросов': None, 'CI/CD': None, 'Разработка продукта': None, 'Agile': None, 'Аналитика': None, 'Ведение переговоров': None, 'Scrum': None, 'Kanban': None, 'Удаленная работа': None, 'HTTP': None, 'People Management': None, 'XML': None, 'Keras': None, 'Matplotlib': None, 'SciPy': None, 'PyCharm': None, 'MS Visual Studio': None, 'Разработка компьютерных Игр': None, 'Spring Framework': None, 'Jupiter': None, 'mathematica': None, 'Agile Project Management': None, 'Обучение и развитие': None, 'Деловая коммуникация': None, 'Валидация моделей': None, 'Модельный риск': None, 'Hibernate ORM': None, 'Внутренние коммуникации': None, 'Управление разработкой': None, 'Team management': None, 'Прогнозирование': None, 'Feature Engineering': None, 'Digital Marketing': None, 'Внутренний аудит контекстной рекламы': None, 'CRM': None, 'Маркетинговый анализ': None, 'Навыки презентации': None, 'Проведение рекламных кампаний': None, 'Лидогенерация': None, 'MailChimp': None, 'KPI': None, 'ABC-анализ': None, 'WEB аналитика': None, 'оптимизация рекламных кампаний': None, 'B2B Продажи': None, 'Ведение активных клиентов': None, 'Analyst': None, 'SPSS': None, 'Statistica': None, 'Анализ бизнес показателей': None, 'CRISP-DM': None, 'Методы машинного обучения': None, 'R-language': None, 'Iron Python': None, 'дистанционная работа': None, 'Построение предиктивных моделей': None, 'Elasticsearch': None, 'RabbitMQ': None, 'Go': None, 'Kubernetes': None, 'C#': None, 'Azure': None, 'English Language': None, 'clickhouse': None, 'go': None, 'Аналитическое мышление': None, 'Golang': None, 'Управление проектами': None, 'NLP: BERT, CatBoost, RegExp': None, '• CV: object detection, segmentation, scene detection, video analytics': None, 'Audio analytics': None, 'TensorRT': None, 'MLFlow': None, 'Kubernetis': None, 'AirFlow': None, 'Dagster': None, 'Graphana(Prometeus)': None, 'ClickHouse': None, 'Atlassian Confluence': None, 'Проверка гипотез': None, 'Статистика': None, 'Исследование данных': None, 'Hadoop': None, 'Spark': None, 'ERP': None, 'CatBoost': None, 'Рекомендательные системы': None, 'Алгоритмы': None, 'Mathematical Statistics': None, 'Нейросети': None, 'Градиентный бустинг': None, 'Экономический анализ': None, 'Бизнес-анализ': None, 'Kotlin': None, 'Apache Kafka': None, 'Kafka': None, 'Оптимизация кода': None, 'Production': None, 'JS': None, 'Высшее образование': None, 'Сбор и анализ информации': None, 'Google Sheets': None, 'Power Pivot': None, 'Power BI': None, 'Data Engineer': None, 'Tableau': None, 'Python/R': None, 'Data Scientist': None, 'VBA': None, 'Регрессионный анализ': None, 'Python 3.8+': None, 'Numpy Pandas': None, 'Широкий кругозор': None, 'Умение работать в условиях многозадачности': None, 'Продуктивность': None, 'внимательность к деталям, умение работать с большими объемами информации': None, 'OCR': None, 'машинное зрение': None, 'data science': None, 'Разработка поисковых технологий': None, 'Adobe Photoshop': None, 'Моделирование': None, 'BERT': None, 'Организация мероприятий': None, 'Деловое общение': None, 'Kuberflow': None, 'кредитные риски': None, 'Проведение презентаций': None, 'PD/EAD/LGD': None, 'Анализ рисков': None, 'Риск-менеджмент': None, 'Grafana': None, 'Розничный риск': None, 'Умение принимать решения': None, 'DS': None, 'DL': None, 'Анализ АБС': None, 'AML': None, 'Управление требованиями': None, 'Работа с банками': None, 'Compliance': None, 'Cython': None, 'С++': None, 'Word2vec': None, 'Xgboost': None, 'ARIS': None, 'Colvir': None, 'Banking compliance': None, 'Валютный контроль': None, 'Разработка технических заданий': None, 'Написание технических заданий': None, 'Моделирование бизнес процессов': None, 'UML': None, 'SOAP': None, 'REST': None, 'Unix': None, 'Подготовка презентаций': None, 'Power Query': None, 'Подготовка отчетов': None, 'Сводные таблицы': None, 'NumPy': None, 'Теория вероятности': None, 'Линейная алгебра': None, 'Research': None, 'Анализ больших данных': None, 'Теория вероятностей': None, 'XGBoost': None, 'numpy': None, 'IT': None, 'Olap (online analytical processing)': None, 'Организаторские навыки': None, 'Ориентация на результат': None, 'Ms Power BI': None, 'Pover Pivot': None, 'MS Excel': None, 'Web Speech API': None, 'Stanford Core NLP': None, 'Модерация': None, 'Конференции': None, 'Написание статей': None, 'Маркетинговые исследования': None, 'Исследования рынка': None, 'Искусственный интеллект': None, 'CV': None, 'AI': None, 'навыки статистической обработки данных': None, 'Аналитические навыки': None, 'Vue.js': None, 'tensorflow': None, 'BI': None, 'А/Б тесты': None, 'BigQuery': None, 'EDA': None, 'Sklearn': None, '1С-Битрикс': None, 'Bitrix': None, 'Magento': None, 'WordPress': None, 'СУБД': None, 'Perl': None, 'Nginx': None, 'Коммуникативные навыки': None, '3D': None, 'Transact-SQL': None, '.NET Framework': None, 'WPF': None, '.NET': None, 'Системный анализ': None, 'golang': None, 'blockchain': None, 'Менеджмент': None, 'Умение быстро усваивать новую информацию': None, 'Знание программ': None, 'Программирование': None, 'Руководство людьми': None, 'PL/SQL': None, 'HTML': None, 'Teamlead': None, 'Team lead': None, 'Java Script': None, 'Стремление к карьерному росту': None, 'Supply chain': None, 'Автозаказ': None, 'Pandas, Numpy, Keras, Pytorch, SciPy, Flask': None, 'Jenkins': None, 'Apache Maven': None, 'Google Analytics': None, 'R&D': None, 'Research methodologies': None, 'Ph.D': None, 'Publications': None, 'Math': None, 'Algorithms': None, 'Communication skills': None, 'Linear algebra': None, 'Probability theory': None, 'Statistics': None, 'Optimization theory': None, 'Креативность': None, 'recommendation system': None, 'ranking': None, 'feed': None, 'Greenplum': None, 'Hive': None, 'Impala': None, 'Oozie': None, 'Pyspark': None, 'Оценка рисков': None, 'Управление рисками': None, 'PD, LGD, EAD': None, 'Портфельные риски': None, 'ETL': None, 'GreenPlum': None, 'Business Intelligence Systems': None, 'Time management': None, 'JupyterHub': None, 'GitLab': None, 'GitLab CI': None, 'MS Visio': None, 'Specifications': None, 'Предиктивная аналитика': None, 'AWS Cloud': None, '3D Data Cloud': None, 'SOLID': None, 'Clickhouse': None, 'Airflow': None, 'ElasticSearch': None, 'Kaggle': None, 'Знание стека DS': None, 'Знание теории машинного обучения, теории вероятностей, основ математического анализа': None, 'Основы алгоритмов и структур данных': None, 'Spring Boot': None, 'Разработка алгоритмов для NLP': None, 'Написание парсеров, автоматизаций': None, 'Блокчейн': None, 'Написание научный статей': None, 'kaldi': None, 'Teradata': None, 'pandas': None, 'scipy': None, 'plotly': None, 'xgboost': None, 'Проектная документация': None, 'Проектирование пользовательского интерфейса': None, 'Проектирование логической модели данных': None, 'IDEF': None, 'EPC': None, 'confluence': None, 'jira': None, 'GitHub': None, 'Selenium IDE': None, 'WebRTC': None, 'A/B тесты': None, 'Математическое программирование': None, 'Разработка нового продукта': None, 'Системное мышление': None, 'DVC': None, 'K8S': None, 'Terraform': None, 'Автоматизация технологических процессов': None, 'машинное обучение': None, 'deep learning': None, 'II': None, 'Team Lead': None, 'Бизнес-аналитика': None, 'Коммуникация': None, 'Системность': None, 'Высокая степень ответственности': None, 'Бенчмаркинг': None, 'basel': None, 'ИИ': None, 'Yarn': None, 'TinyML': None, 'Embedded': None, 'Solution Architect': None, 'Архитектор решений': None, 'С': None, 'nlp': None, 'Classic Machine Learning': None, 'Zepellin': None, 'Product Management': None, 'линейные модели': None, 'Random Forest': None, 'Gradient Boosting': None, 'CJM': None, 'Анализ рынка': None, 'FinTech': None, 'Neural Networks': None, 'Classification': None, 'NLU': None, 'Language Modeling': None, 'Intent Classification': None, 'Чат-бот': None, 'Автоматизация процессов': None, 'Стратегия': None, 'kubernetes': None, 'Написание научных статей': None, 'Искусственный интеллект AI': None, 'Market Research': None, 'Business Analysis': None, 'Информационная безопасность': None, 'IDA': None, 'Ghidra': None, 'искусственный интеллект': None, 'TeamCity': None, 'Gitlab': None, 'Openshift': None, 'Nexus': None, 'Dataiku': None, 'Высокий уровень самоорганизации': None, 'Желание работать и развиваться': None, 'Unreal Engine 4': None, 'Ansible': None, 'Visual Studio C#': None, 'Наставничество': None, 'Reviewing': None, 'Визуализация данных': None, 'Умение анализировать': None, 'Mathematical Analysis': None, 'Управление персоналом': None, 'MVC': None, 'Vue': None, 'Анализ кода': None, 'Математическая логика': None, 'алгоритмы': None, 'computer vision': None, 'Гибкость': None, 'Windows Server': None, 'Hyper-V': None, 'ITIL': None, 'Mathematica': None, '1С программирование': None, '1С: Предприятие 8': None, '1C: Бухгалтерия': None, '1C ERP': None, '1С: Зарплата и управление персоналом': None, '1С: Документооборот': None, 'Tesseract': None, 'Jupyter': None, 'PMBOK': None, 'CUDA': None, 'Gstreamer': None, 'Deepstreamer': None, 'нейронные сети': None, 'Github': None, 'OpenDNS': None, 'network security': None, 'Yii': None, 'Подбор персонала': None, 'Обучение': None, 'Опыт руководства': None, 'Планирование и организация': None, 'Data scientist': None, 'AutoML': None, 'АСУ ТП': None, 'временные ряды': None, 'REST API': None, 'Bitbucket': None, 'Ajax': None, 'Не заполнено': None}\n"
          ]
        }
      ],
      "source": [
        "# Из списка ключевых навыков делаем словарь, где ключевые навыки являются ключами\n",
        "empty_dict = dict.fromkeys(skill_list)\n",
        "print(empty_dict)"
      ]
    },
    {
      "cell_type": "code",
      "execution_count": 137,
      "id": "b049186a",
      "metadata": {},
      "outputs": [
        {
          "name": "stdout",
          "output_type": "stream",
          "text": [
            "{'Python': 0, 'SQL': 0, 'Работа в команде': 0, 'OpenCV': 0, 'ML': 0, 'Oracle Pl/SQL': 0, 'Базы данных': 0, 'Machine Learning': 0, 'Машинное обучение': 0, 'Git': 0, 'Data science': 0, 'Работа с базами данных': 0, 'Математические модели': 0, 'Tensorflow': 0, 'Computer Vision': 0, 'Нейронные сети': 0, 'C++': 0, 'С#': 0, 'Caffe': 0, 'Flask': 0, 'Linux': 0, 'AWS': 0, 'Atlassian Jira': 0, 'Функциональное тестирование': 0, 'Тестирование': 0, 'Blockchain': 0, 'Регресcионное тестирование': 0, 'Jira': 0, 'Автоматизированное тестирование': 0, 'Java': 0, 'Проведение тестирований': 0, 'Нагрузочное тестирование': 0, 'Разработка ПО': 0, 'JavaScript': 0, 'MySQL': 0, 'Веб-программирование': 0, 'CSS': 0, 'PHP5': 0, 'ООП': 0, 'PHP': 0, 'Постановка задач разработчикам': 0, 'руководство командой разработчиков': 0, 'HTML5': 0, 'laravel': 0, 'vue': 0, 'react': 0, 'DDD': 0, 'devops': 0, 'NLP': 0, 'Scikit-learn': 0, 'Поиск информации в интернет': 0, 'Математическая статистика': 0, 'Математический анализ': 0, 'Qt': 0, 'VoIP': 0, 'TCP/IP': 0, 'QML': 0, 'Bash': 0, 'Sas': 0, 'MS PowerPoint': 0, 'Анализ данных': 0, 'Data Mining': 0, 'machine learning': 0, 'SCALA': 0, 'Big Data': 0, 'Data Analysis': 0, 'MATLAB': 0, 'Математическое моделирование': 0, 'Английский язык': 0, 'Microsoft': 0, 'VMware': 0, 'CentOS': 0, 'MS SQL Server': 0, 'ORACLE': 0, 'Cisco': 0, 'SCOM': 0, 'ITSM': 0, 'Learning to Rank': 0, 'Data Science': 0, 'Анализ временных рядов': 0, 'Кластерный анализ': 0, 'R': 0, 'MS SQL': 0, 'SAP': 0, 'SAP MM': 0, 'Teamleading': 0, 'Работа с большим объемом информации': 0, 'Статистический анализ': 0, 'Deep Learning': 0, 'математика': 0, 'теория групп': 0, 'алгебра Ли': 0, 'прикладная математика': 0, 'Docker': 0, 'PyTorch': 0, 'C/C++': 0, 'Machine learning': 0, 'Pandas': 0, 'Numpy': 0, 'Cистемы управления базами данных': 0, 'TensorFlow': 0, 'MLOps': 0, 'Google Cloud': 0, 'Алгоритмы и структуры данных': 0, 'Jupyter Notebook': 0, 'PostgreSQL': 0, 'Django Framework': 0, 'pandas NumPy': 0, 'MongoDB': 0, 'API': 0, 'Веб-аналитика': 0, 'Node.js': 0, 'TypeScript': 0, 'React': 0, 'Redux': 0, 'Аналитические исследования': 0, 'Налоговое законодательство': 0, 'Аналитика продаж': 0, 'Деловая переписка': 0, 'Pytorch': 0, 'web security': 0, 'sklearn': 0, 'pytorch': 0, 'docker': 0, 'Laravel': 0, 'Управление командой': 0, 'Лидерство': 0, 'k8s': 0, 'BPMN': 0, 'Backend': 0, 'Работа с большим пулом запросов': 0, 'CI/CD': 0, 'Разработка продукта': 0, 'Agile': 0, 'Аналитика': 0, 'Ведение переговоров': 0, 'Scrum': 0, 'Kanban': 0, 'Удаленная работа': 0, 'HTTP': 0, 'People Management': 0, 'XML': 0, 'Keras': 0, 'Matplotlib': 0, 'SciPy': 0, 'PyCharm': 0, 'MS Visual Studio': 0, 'Разработка компьютерных Игр': 0, 'Spring Framework': 0, 'Jupiter': 0, 'mathematica': 0, 'Agile Project Management': 0, 'Обучение и развитие': 0, 'Деловая коммуникация': 0, 'Валидация моделей': 0, 'Модельный риск': 0, 'Hibernate ORM': 0, 'Внутренние коммуникации': 0, 'Управление разработкой': 0, 'Team management': 0, 'Прогнозирование': 0, 'Feature Engineering': 0, 'Digital Marketing': 0, 'Внутренний аудит контекстной рекламы': 0, 'CRM': 0, 'Маркетинговый анализ': 0, 'Навыки презентации': 0, 'Проведение рекламных кампаний': 0, 'Лидогенерация': 0, 'MailChimp': 0, 'KPI': 0, 'ABC-анализ': 0, 'WEB аналитика': 0, 'оптимизация рекламных кампаний': 0, 'B2B Продажи': 0, 'Ведение активных клиентов': 0, 'Analyst': 0, 'SPSS': 0, 'Statistica': 0, 'Анализ бизнес показателей': 0, 'CRISP-DM': 0, 'Методы машинного обучения': 0, 'R-language': 0, 'Iron Python': 0, 'дистанционная работа': 0, 'Построение предиктивных моделей': 0, 'Elasticsearch': 0, 'RabbitMQ': 0, 'Go': 0, 'Kubernetes': 0, 'C#': 0, 'Azure': 0, 'English Language': 0, 'clickhouse': 0, 'go': 0, 'Аналитическое мышление': 0, 'Golang': 0, 'Управление проектами': 0, 'NLP: BERT, CatBoost, RegExp': 0, '• CV: object detection, segmentation, scene detection, video analytics': 0, 'Audio analytics': 0, 'TensorRT': 0, 'MLFlow': 0, 'Kubernetis': 0, 'AirFlow': 0, 'Dagster': 0, 'Graphana(Prometeus)': 0, 'ClickHouse': 0, 'Atlassian Confluence': 0, 'Проверка гипотез': 0, 'Статистика': 0, 'Исследование данных': 0, 'Hadoop': 0, 'Spark': 0, 'ERP': 0, 'CatBoost': 0, 'Рекомендательные системы': 0, 'Алгоритмы': 0, 'Mathematical Statistics': 0, 'Нейросети': 0, 'Градиентный бустинг': 0, 'Экономический анализ': 0, 'Бизнес-анализ': 0, 'Kotlin': 0, 'Apache Kafka': 0, 'Kafka': 0, 'Оптимизация кода': 0, 'Production': 0, 'JS': 0, 'Высшее образование': 0, 'Сбор и анализ информации': 0, 'Google Sheets': 0, 'Power Pivot': 0, 'Power BI': 0, 'Data Engineer': 0, 'Tableau': 0, 'Python/R': 0, 'Data Scientist': 0, 'VBA': 0, 'Регрессионный анализ': 0, 'Python 3.8+': 0, 'Numpy Pandas': 0, 'Широкий кругозор': 0, 'Умение работать в условиях многозадачности': 0, 'Продуктивность': 0, 'внимательность к деталям, умение работать с большими объемами информации': 0, 'OCR': 0, 'машинное зрение': 0, 'data science': 0, 'Разработка поисковых технологий': 0, 'Adobe Photoshop': 0, 'Моделирование': 0, 'BERT': 0, 'Организация мероприятий': 0, 'Деловое общение': 0, 'Kuberflow': 0, 'кредитные риски': 0, 'Проведение презентаций': 0, 'PD/EAD/LGD': 0, 'Анализ рисков': 0, 'Риск-менеджмент': 0, 'Grafana': 0, 'Розничный риск': 0, 'Умение принимать решения': 0, 'DS': 0, 'DL': 0, 'Анализ АБС': 0, 'AML': 0, 'Управление требованиями': 0, 'Работа с банками': 0, 'Compliance': 0, 'Cython': 0, 'С++': 0, 'Word2vec': 0, 'Xgboost': 0, 'ARIS': 0, 'Colvir': 0, 'Banking compliance': 0, 'Валютный контроль': 0, 'Разработка технических заданий': 0, 'Написание технических заданий': 0, 'Моделирование бизнес процессов': 0, 'UML': 0, 'SOAP': 0, 'REST': 0, 'Unix': 0, 'Подготовка презентаций': 0, 'Power Query': 0, 'Подготовка отчетов': 0, 'Сводные таблицы': 0, 'NumPy': 0, 'Теория вероятности': 0, 'Линейная алгебра': 0, 'Research': 0, 'Анализ больших данных': 0, 'Теория вероятностей': 0, 'XGBoost': 0, 'numpy': 0, 'IT': 0, 'Olap (online analytical processing)': 0, 'Организаторские навыки': 0, 'Ориентация на результат': 0, 'Ms Power BI': 0, 'Pover Pivot': 0, 'MS Excel': 0, 'Web Speech API': 0, 'Stanford Core NLP': 0, 'Модерация': 0, 'Конференции': 0, 'Написание статей': 0, 'Маркетинговые исследования': 0, 'Исследования рынка': 0, 'Искусственный интеллект': 0, 'CV': 0, 'AI': 0, 'навыки статистической обработки данных': 0, 'Аналитические навыки': 0, 'Vue.js': 0, 'tensorflow': 0, 'BI': 0, 'А/Б тесты': 0, 'BigQuery': 0, 'EDA': 0, 'Sklearn': 0, '1С-Битрикс': 0, 'Bitrix': 0, 'Magento': 0, 'WordPress': 0, 'СУБД': 0, 'Perl': 0, 'Nginx': 0, 'Коммуникативные навыки': 0, '3D': 0, 'Transact-SQL': 0, '.NET Framework': 0, 'WPF': 0, '.NET': 0, 'Системный анализ': 0, 'golang': 0, 'blockchain': 0, 'Менеджмент': 0, 'Умение быстро усваивать новую информацию': 0, 'Знание программ': 0, 'Программирование': 0, 'Руководство людьми': 0, 'PL/SQL': 0, 'HTML': 0, 'Teamlead': 0, 'Team lead': 0, 'Java Script': 0, 'Стремление к карьерному росту': 0, 'Supply chain': 0, 'Автозаказ': 0, 'Pandas, Numpy, Keras, Pytorch, SciPy, Flask': 0, 'Jenkins': 0, 'Apache Maven': 0, 'Google Analytics': 0, 'R&D': 0, 'Research methodologies': 0, 'Ph.D': 0, 'Publications': 0, 'Math': 0, 'Algorithms': 0, 'Communication skills': 0, 'Linear algebra': 0, 'Probability theory': 0, 'Statistics': 0, 'Optimization theory': 0, 'Креативность': 0, 'recommendation system': 0, 'ranking': 0, 'feed': 0, 'Greenplum': 0, 'Hive': 0, 'Impala': 0, 'Oozie': 0, 'Pyspark': 0, 'Оценка рисков': 0, 'Управление рисками': 0, 'PD, LGD, EAD': 0, 'Портфельные риски': 0, 'ETL': 0, 'GreenPlum': 0, 'Business Intelligence Systems': 0, 'Time management': 0, 'JupyterHub': 0, 'GitLab': 0, 'GitLab CI': 0, 'MS Visio': 0, 'Specifications': 0, 'Предиктивная аналитика': 0, 'AWS Cloud': 0, '3D Data Cloud': 0, 'SOLID': 0, 'Clickhouse': 0, 'Airflow': 0, 'ElasticSearch': 0, 'Kaggle': 0, 'Знание стека DS': 0, 'Знание теории машинного обучения, теории вероятностей, основ математического анализа': 0, 'Основы алгоритмов и структур данных': 0, 'Spring Boot': 0, 'Разработка алгоритмов для NLP': 0, 'Написание парсеров, автоматизаций': 0, 'Блокчейн': 0, 'Написание научный статей': 0, 'kaldi': 0, 'Teradata': 0, 'pandas': 0, 'scipy': 0, 'plotly': 0, 'xgboost': 0, 'Проектная документация': 0, 'Проектирование пользовательского интерфейса': 0, 'Проектирование логической модели данных': 0, 'IDEF': 0, 'EPC': 0, 'confluence': 0, 'jira': 0, 'GitHub': 0, 'Selenium IDE': 0, 'WebRTC': 0, 'A/B тесты': 0, 'Математическое программирование': 0, 'Разработка нового продукта': 0, 'Системное мышление': 0, 'DVC': 0, 'K8S': 0, 'Terraform': 0, 'Автоматизация технологических процессов': 0, 'машинное обучение': 0, 'deep learning': 0, 'II': 0, 'Team Lead': 0, 'Бизнес-аналитика': 0, 'Коммуникация': 0, 'Системность': 0, 'Высокая степень ответственности': 0, 'Бенчмаркинг': 0, 'basel': 0, 'ИИ': 0, 'Yarn': 0, 'TinyML': 0, 'Embedded': 0, 'Solution Architect': 0, 'Архитектор решений': 0, 'С': 0, 'nlp': 0, 'Classic Machine Learning': 0, 'Zepellin': 0, 'Product Management': 0, 'линейные модели': 0, 'Random Forest': 0, 'Gradient Boosting': 0, 'CJM': 0, 'Анализ рынка': 0, 'FinTech': 0, 'Neural Networks': 0, 'Classification': 0, 'NLU': 0, 'Language Modeling': 0, 'Intent Classification': 0, 'Чат-бот': 0, 'Автоматизация процессов': 0, 'Стратегия': 0, 'kubernetes': 0, 'Написание научных статей': 0, 'Искусственный интеллект AI': 0, 'Market Research': 0, 'Business Analysis': 0, 'Информационная безопасность': 0, 'IDA': 0, 'Ghidra': 0, 'искусственный интеллект': 0, 'TeamCity': 0, 'Gitlab': 0, 'Openshift': 0, 'Nexus': 0, 'Dataiku': 0, 'Высокий уровень самоорганизации': 0, 'Желание работать и развиваться': 0, 'Unreal Engine 4': 0, 'Ansible': 0, 'Visual Studio C#': 0, 'Наставничество': 0, 'Reviewing': 0, 'Визуализация данных': 0, 'Умение анализировать': 0, 'Mathematical Analysis': 0, 'Управление персоналом': 0, 'MVC': 0, 'Vue': 0, 'Анализ кода': 0, 'Математическая логика': 0, 'алгоритмы': 0, 'computer vision': 0, 'Гибкость': 0, 'Windows Server': 0, 'Hyper-V': 0, 'ITIL': 0, 'Mathematica': 0, '1С программирование': 0, '1С: Предприятие 8': 0, '1C: Бухгалтерия': 0, '1C ERP': 0, '1С: Зарплата и управление персоналом': 0, '1С: Документооборот': 0, 'Tesseract': 0, 'Jupyter': 0, 'PMBOK': 0, 'CUDA': 0, 'Gstreamer': 0, 'Deepstreamer': 0, 'нейронные сети': 0, 'Github': 0, 'OpenDNS': 0, 'network security': 0, 'Yii': 0, 'Подбор персонала': 0, 'Обучение': 0, 'Опыт руководства': 0, 'Планирование и организация': 0, 'Data scientist': 0, 'AutoML': 0, 'АСУ ТП': 0, 'временные ряды': 0, 'REST API': 0, 'Bitbucket': 0, 'Ajax': 0}\n"
          ]
        }
      ],
      "source": [
        "# В ранее созданном словаре были пустые значения, к которым нельзя было прибавлять единицу (сделать счетчик, чтоб считать сколько раз встречается каждый навык)\n",
        "# Поэтому подготовительным этапом ко всем ключам добавили значение 0\n",
        "skill_dict={}\n",
        "\n",
        "for object in df['key_skills']:\n",
        "   if not object:\n",
        "      continue\n",
        "   else:\n",
        "      newList = object.split('\\t')\n",
        "      for skill in newList:\n",
        "         if skill in skill_list:\n",
        "            skill_dict[skill]=0\n",
        "print(skill_dict)"
      ]
    },
    {
      "cell_type": "code",
      "execution_count": 138,
      "id": "8ebd4ef4",
      "metadata": {},
      "outputs": [
        {
          "name": "stdout",
          "output_type": "stream",
          "text": [
            "{'Python': 354, 'SQL': 208, 'Работа в команде': 10, 'OpenCV': 14, 'ML': 49, 'Oracle Pl/SQL': 9, 'Базы данных': 11, 'Machine Learning': 114, 'Машинное обучение': 31, 'Git': 81, 'Data science': 4, 'Работа с базами данных': 8, 'Математические модели': 1, 'Tensorflow': 35, 'Computer Vision': 19, 'Нейронные сети': 8, 'C++': 42, 'С#': 1, 'Caffe': 2, 'Flask': 4, 'Linux': 53, 'AWS': 5, 'Atlassian Jira': 14, 'Функциональное тестирование': 2, 'Тестирование': 2, 'Blockchain': 1, 'Регресcионное тестирование': 1, 'Jira': 2, 'Автоматизированное тестирование': 2, 'Java': 41, 'Проведение тестирований': 1, 'Нагрузочное тестирование': 1, 'Разработка ПО': 4, 'JavaScript': 13, 'MySQL': 9, 'Веб-программирование': 2, 'CSS': 3, 'PHP5': 1, 'ООП': 27, 'PHP': 10, 'Постановка задач разработчикам': 10, 'руководство командой разработчиков': 4, 'HTML5': 1, 'laravel': 1, 'vue': 1, 'react': 1, 'DDD': 1, 'devops': 1, 'NLP': 40, 'Scikit-learn': 14, 'Поиск информации в интернет': 1, 'Математическая статистика': 62, 'Математический анализ': 29, 'Qt': 12, 'VoIP': 1, 'TCP/IP': 1, 'QML': 10, 'Bash': 4, 'Sas': 6, 'MS PowerPoint': 24, 'Анализ данных': 46, 'Data Mining': 21, 'machine learning': 19, 'SCALA': 17, 'Big Data': 42, 'Data Analysis': 55, 'MATLAB': 7, 'Математическое моделирование': 41, 'Английский язык': 48, 'Microsoft': 1, 'VMware': 1, 'CentOS': 1, 'MS SQL Server': 4, 'ORACLE': 11, 'Cisco': 2, 'SCOM': 1, 'ITSM': 2, 'Learning to Rank': 6, 'Data Science': 52, 'Анализ временных рядов': 1, 'Кластерный анализ': 1, 'R': 9, 'MS SQL': 10, 'SAP': 2, 'SAP MM': 2, 'Teamleading': 8, 'Работа с большим объемом информации': 8, 'Статистический анализ': 40, 'Deep Learning': 22, 'математика': 3, 'теория групп': 3, 'алгебра Ли': 3, 'прикладная математика': 3, 'Docker': 37, 'PyTorch': 46, 'C/C++': 6, 'Machine learning': 7, 'Pandas': 52, 'Numpy': 34, 'Cистемы управления базами данных': 1, 'TensorFlow': 5, 'MLOps': 4, 'Google Cloud': 1, 'Алгоритмы и структуры данных': 5, 'Jupyter Notebook': 1, 'PostgreSQL': 25, 'Django Framework': 4, 'pandas NumPy': 1, 'MongoDB': 11, 'API': 3, 'Веб-аналитика': 2, 'Node.js': 3, 'TypeScript': 1, 'React': 4, 'Redux': 1, 'Аналитические исследования': 16, 'Налоговое законодательство': 1, 'Аналитика продаж': 1, 'Деловая переписка': 2, 'Pytorch': 2, 'web security': 9, 'sklearn': 19, 'pytorch': 13, 'docker': 11, 'Laravel': 2, 'Управление командой': 7, 'Лидерство': 1, 'k8s': 5, 'BPMN': 8, 'Backend': 2, 'Работа с большим пулом запросов': 2, 'CI/CD': 7, 'Разработка продукта': 1, 'Agile': 5, 'Аналитика': 5, 'Ведение переговоров': 2, 'Scrum': 10, 'Kanban': 2, 'Удаленная работа': 3, 'HTTP': 1, 'People Management': 2, 'XML': 5, 'Keras': 8, 'Matplotlib': 1, 'SciPy': 5, 'PyCharm': 1, 'MS Visual Studio': 9, 'Разработка компьютерных Игр': 9, 'Spring Framework': 6, 'Jupiter': 3, 'mathematica': 1, 'Agile Project Management': 6, 'Обучение и развитие': 8, 'Деловая коммуникация': 1, 'Валидация моделей': 3, 'Модельный риск': 2, 'Hibernate ORM': 2, 'Внутренние коммуникации': 2, 'Управление разработкой': 2, 'Team management': 2, 'Прогнозирование': 5, 'Feature Engineering': 1, 'Digital Marketing': 1, 'Внутренний аудит контекстной рекламы': 1, 'CRM': 1, 'Маркетинговый анализ': 2, 'Навыки презентации': 2, 'Проведение рекламных кампаний': 1, 'Лидогенерация': 1, 'MailChimp': 1, 'KPI': 1, 'ABC-анализ': 1, 'WEB аналитика': 1, 'оптимизация рекламных кампаний': 1, 'B2B Продажи': 1, 'Ведение активных клиентов': 1, 'Analyst': 1, 'SPSS': 1, 'Statistica': 1, 'Анализ бизнес показателей': 2, 'CRISP-DM': 1, 'Методы машинного обучения': 1, 'R-language': 1, 'Iron Python': 2, 'дистанционная работа': 1, 'Построение предиктивных моделей': 1, 'Elasticsearch': 3, 'RabbitMQ': 4, 'Go': 1, 'Kubernetes': 5, 'C#': 3, 'Azure': 2, 'English Language': 2, 'clickhouse': 1, 'go': 3, 'Аналитическое мышление': 25, 'Golang': 6, 'Управление проектами': 11, 'NLP: BERT, CatBoost, RegExp': 1, '• CV: object detection, segmentation, scene detection, video analytics': 1, 'Audio analytics': 1, 'TensorRT': 2, 'MLFlow': 3, 'Kubernetis': 1, 'AirFlow': 1, 'Dagster': 1, 'Graphana(Prometeus)': 1, 'ClickHouse': 3, 'Atlassian Confluence': 9, 'Проверка гипотез': 1, 'Статистика': 6, 'Исследование данных': 1, 'Hadoop': 33, 'Spark': 38, 'ERP': 1, 'CatBoost': 1, 'Рекомендательные системы': 1, 'Алгоритмы': 4, 'Mathematical Statistics': 3, 'Нейросети': 1, 'Градиентный бустинг': 1, 'Экономический анализ': 1, 'Бизнес-анализ': 6, 'Kotlin': 2, 'Apache Kafka': 4, 'Kafka': 4, 'Оптимизация кода': 2, 'Production': 1, 'JS': 4, 'Высшее образование': 1, 'Сбор и анализ информации': 5, 'Google Sheets': 1, 'Power Pivot': 1, 'Power BI': 7, 'Data Engineer': 1, 'Tableau': 6, 'Python/R': 1, 'Data Scientist': 2, 'VBA': 1, 'Регрессионный анализ': 1, 'Python 3.8+': 1, 'Numpy Pandas': 1, 'Широкий кругозор': 1, 'Умение работать в условиях многозадачности': 1, 'Продуктивность': 1, 'внимательность к деталям, умение работать с большими объемами информации': 1, 'OCR': 1, 'машинное зрение': 1, 'data science': 8, 'Разработка поисковых технологий': 3, 'Adobe Photoshop': 4, 'Моделирование': 3, 'BERT': 1, 'Организация мероприятий': 1, 'Деловое общение': 1, 'Kuberflow': 1, 'кредитные риски': 14, 'Проведение презентаций': 1, 'PD/EAD/LGD': 1, 'Анализ рисков': 5, 'Риск-менеджмент': 2, 'Grafana': 3, 'Розничный риск': 1, 'Умение принимать решения': 2, 'DS': 3, 'DL': 2, 'Анализ АБС': 2, 'AML': 2, 'Управление требованиями': 2, 'Работа с банками': 2, 'Compliance': 1, 'Cython': 1, 'С++': 1, 'Word2vec': 1, 'Xgboost': 1, 'ARIS': 1, 'Colvir': 1, 'Banking compliance': 1, 'Валютный контроль': 1, 'Разработка технических заданий': 4, 'Написание технических заданий': 2, 'Моделирование бизнес процессов': 3, 'UML': 5, 'SOAP': 5, 'REST': 5, 'Unix': 3, 'Подготовка презентаций': 4, 'Power Query': 3, 'Подготовка отчетов': 2, 'Сводные таблицы': 2, 'NumPy': 1, 'Теория вероятности': 1, 'Линейная алгебра': 3, 'Research': 1, 'Анализ больших данных': 1, 'Теория вероятностей': 3, 'XGBoost': 4, 'numpy': 3, 'IT': 1, 'Olap (online analytical processing)': 2, 'Организаторские навыки': 3, 'Ориентация на результат': 3, 'Ms Power BI': 1, 'Pover Pivot': 1, 'MS Excel': 2, 'Web Speech API': 1, 'Stanford Core NLP': 1, 'Модерация': 1, 'Конференции': 1, 'Написание статей': 4, 'Маркетинговые исследования': 1, 'Исследования рынка': 2, 'Искусственный интеллект': 5, 'CV': 2, 'AI': 2, 'навыки статистической обработки данных': 2, 'Аналитические навыки': 2, 'Vue.js': 2, 'tensorflow': 2, 'BI': 2, 'А/Б тесты': 1, 'BigQuery': 1, 'EDA': 1, 'Sklearn': 1, '1С-Битрикс': 1, 'Bitrix': 1, 'Magento': 1, 'WordPress': 1, 'СУБД': 1, 'Perl': 1, 'Nginx': 1, 'Коммуникативные навыки': 1, '3D': 1, 'Transact-SQL': 1, '.NET Framework': 1, 'WPF': 1, '.NET': 1, 'Системный анализ': 2, 'golang': 2, 'blockchain': 2, 'Менеджмент': 2, 'Умение быстро усваивать новую информацию': 1, 'Знание программ': 1, 'Программирование': 2, 'Руководство людьми': 2, 'PL/SQL': 2, 'HTML': 2, 'Teamlead': 2, 'Team lead': 2, 'Java Script': 2, 'Стремление к карьерному росту': 2, 'Supply chain': 1, 'Автозаказ': 1, 'Pandas, Numpy, Keras, Pytorch, SciPy, Flask': 1, 'Jenkins': 2, 'Apache Maven': 3, 'Google Analytics': 1, 'R&D': 1, 'Research methodologies': 1, 'Ph.D': 1, 'Publications': 1, 'Math': 1, 'Algorithms': 1, 'Communication skills': 1, 'Linear algebra': 1, 'Probability theory': 1, 'Statistics': 1, 'Optimization theory': 1, 'Креативность': 1, 'recommendation system': 1, 'ranking': 1, 'feed': 1, 'Greenplum': 2, 'Hive': 5, 'Impala': 1, 'Oozie': 1, 'Pyspark': 1, 'Оценка рисков': 13, 'Управление рисками': 13, 'PD, LGD, EAD': 13, 'Портфельные риски': 13, 'ETL': 1, 'GreenPlum': 1, 'Business Intelligence Systems': 1, 'Time management': 2, 'JupyterHub': 1, 'GitLab': 1, 'GitLab CI': 1, 'MS Visio': 1, 'Specifications': 1, 'Предиктивная аналитика': 1, 'AWS Cloud': 2, '3D Data Cloud': 2, 'SOLID': 2, 'Clickhouse': 2, 'Airflow': 3, 'ElasticSearch': 2, 'Kaggle': 2, 'Знание стека DS': 2, 'Знание теории машинного обучения, теории вероятностей, основ математического анализа': 2, 'Основы алгоритмов и структур данных': 2, 'Spring Boot': 1, 'Разработка алгоритмов для NLP': 1, 'Написание парсеров, автоматизаций': 1, 'Блокчейн': 1, 'Написание научный статей': 2, 'kaldi': 1, 'Teradata': 1, 'pandas': 3, 'scipy': 1, 'plotly': 1, 'xgboost': 1, 'Проектная документация': 1, 'Проектирование пользовательского интерфейса': 1, 'Проектирование логической модели данных': 1, 'IDEF': 1, 'EPC': 1, 'confluence': 1, 'jira': 1, 'GitHub': 1, 'Selenium IDE': 1, 'WebRTC': 2, 'A/B тесты': 3, 'Математическое программирование': 1, 'Разработка нового продукта': 1, 'Системное мышление': 2, 'DVC': 1, 'K8S': 1, 'Terraform': 2, 'Автоматизация технологических процессов': 1, 'машинное обучение': 2, 'deep learning': 1, 'II': 1, 'Team Lead': 1, 'Бизнес-аналитика': 1, 'Коммуникация': 1, 'Системность': 1, 'Высокая степень ответственности': 1, 'Бенчмаркинг': 1, 'basel': 1, 'ИИ': 1, 'Yarn': 1, 'TinyML': 4, 'Embedded': 4, 'Solution Architect': 4, 'Архитектор решений': 4, 'С': 4, 'nlp': 2, 'Classic Machine Learning': 1, 'Zepellin': 1, 'Product Management': 2, 'линейные модели': 1, 'Random Forest': 1, 'Gradient Boosting': 1, 'CJM': 1, 'Анализ рынка': 1, 'FinTech': 1, 'Neural Networks': 1, 'Classification': 1, 'NLU': 1, 'Language Modeling': 1, 'Intent Classification': 1, 'Чат-бот': 1, 'Автоматизация процессов': 1, 'Стратегия': 1, 'kubernetes': 1, 'Написание научных статей': 1, 'Искусственный интеллект AI': 1, 'Market Research': 1, 'Business Analysis': 1, 'Информационная безопасность': 1, 'IDA': 1, 'Ghidra': 1, 'искусственный интеллект': 2, 'TeamCity': 1, 'Gitlab': 1, 'Openshift': 1, 'Nexus': 1, 'Dataiku': 1, 'Высокий уровень самоорганизации': 1, 'Желание работать и развиваться': 1, 'Unreal Engine 4': 1, 'Ansible': 1, 'Visual Studio C#': 1, 'Наставничество': 1, 'Reviewing': 1, 'Визуализация данных': 1, 'Умение анализировать': 1, 'Mathematical Analysis': 1, 'Управление персоналом': 1, 'MVC': 1, 'Vue': 2, 'Анализ кода': 1, 'Математическая логика': 1, 'алгоритмы': 1, 'computer vision': 1, 'Гибкость': 1, 'Windows Server': 1, 'Hyper-V': 1, 'ITIL': 1, 'Mathematica': 1, '1С программирование': 1, '1С: Предприятие 8': 1, '1C: Бухгалтерия': 1, '1C ERP': 1, '1С: Зарплата и управление персоналом': 1, '1С: Документооборот': 1, 'Tesseract': 2, 'Jupyter': 2, 'PMBOK': 1, 'CUDA': 1, 'Gstreamer': 1, 'Deepstreamer': 1, 'нейронные сети': 1, 'Github': 1, 'OpenDNS': 1, 'network security': 2, 'Yii': 1, 'Подбор персонала': 1, 'Обучение': 1, 'Опыт руководства': 1, 'Планирование и организация': 1, 'Data scientist': 1, 'AutoML': 1, 'АСУ ТП': 1, 'временные ряды': 1, 'REST API': 1, 'Bitbucket': 1, 'Ajax': 1}\n"
          ]
        }
      ],
      "source": [
        "# Посчитали сколько каждый навык встречается в ключевых навыках вакансий\n",
        "for object in df['key_skills']:\n",
        "   if not object:\n",
        "      continue\n",
        "   else:\n",
        "      newList = object.split('\\t')\n",
        "      for skill in newList:\n",
        "         if skill in skill_list:\n",
        "            skill_dict[skill]+=1\n",
        "print(skill_dict)"
      ]
    },
    {
      "cell_type": "code",
      "execution_count": 151,
      "id": "9311b739",
      "metadata": {},
      "outputs": [
        {
          "data": {
            "text/html": [
              "<div>\n",
              "<style scoped>\n",
              "    .dataframe tbody tr th:only-of-type {\n",
              "        vertical-align: middle;\n",
              "    }\n",
              "\n",
              "    .dataframe tbody tr th {\n",
              "        vertical-align: top;\n",
              "    }\n",
              "\n",
              "    .dataframe thead th {\n",
              "        text-align: right;\n",
              "    }\n",
              "</style>\n",
              "<table border=\"1\" class=\"dataframe\">\n",
              "  <thead>\n",
              "    <tr style=\"text-align: right;\">\n",
              "      <th></th>\n",
              "      <th>0</th>\n",
              "    </tr>\n",
              "  </thead>\n",
              "  <tbody>\n",
              "    <tr>\n",
              "      <th>Python</th>\n",
              "      <td>354</td>\n",
              "    </tr>\n",
              "    <tr>\n",
              "      <th>SQL</th>\n",
              "      <td>208</td>\n",
              "    </tr>\n",
              "    <tr>\n",
              "      <th>Machine Learning</th>\n",
              "      <td>114</td>\n",
              "    </tr>\n",
              "    <tr>\n",
              "      <th>Git</th>\n",
              "      <td>81</td>\n",
              "    </tr>\n",
              "    <tr>\n",
              "      <th>Математическая статистика</th>\n",
              "      <td>62</td>\n",
              "    </tr>\n",
              "    <tr>\n",
              "      <th>Data Analysis</th>\n",
              "      <td>55</td>\n",
              "    </tr>\n",
              "    <tr>\n",
              "      <th>Linux</th>\n",
              "      <td>53</td>\n",
              "    </tr>\n",
              "    <tr>\n",
              "      <th>Pandas</th>\n",
              "      <td>52</td>\n",
              "    </tr>\n",
              "    <tr>\n",
              "      <th>Data Science</th>\n",
              "      <td>52</td>\n",
              "    </tr>\n",
              "    <tr>\n",
              "      <th>ML</th>\n",
              "      <td>49</td>\n",
              "    </tr>\n",
              "    <tr>\n",
              "      <th>Английский язык</th>\n",
              "      <td>48</td>\n",
              "    </tr>\n",
              "    <tr>\n",
              "      <th>Анализ данных</th>\n",
              "      <td>46</td>\n",
              "    </tr>\n",
              "    <tr>\n",
              "      <th>PyTorch</th>\n",
              "      <td>46</td>\n",
              "    </tr>\n",
              "    <tr>\n",
              "      <th>Big Data</th>\n",
              "      <td>42</td>\n",
              "    </tr>\n",
              "    <tr>\n",
              "      <th>C++</th>\n",
              "      <td>42</td>\n",
              "    </tr>\n",
              "  </tbody>\n",
              "</table>\n",
              "</div>"
            ],
            "text/plain": [
              "                             0\n",
              "Python                     354\n",
              "SQL                        208\n",
              "Machine Learning           114\n",
              "Git                         81\n",
              "Математическая статистика   62\n",
              "Data Analysis               55\n",
              "Linux                       53\n",
              "Pandas                      52\n",
              "Data Science                52\n",
              "ML                          49\n",
              "Английский язык             48\n",
              "Анализ данных               46\n",
              "PyTorch                     46\n",
              "Big Data                    42\n",
              "C++                         42"
            ]
          },
          "execution_count": 151,
          "metadata": {},
          "output_type": "execute_result"
        }
      ],
      "source": [
        "# Сделали из словаря таблицу, отсортировали по количеству указаний ключевого навыка, вывели ТОП-15\n",
        "df_skills = pd.DataFrame.from_dict(skill_dict, orient='index')\n",
        "df_sorted = df_skills.sort_values(by=0, ascending=False)\n",
        "df_sorted.head(15)"
      ]
    },
    {
      "cell_type": "code",
      "execution_count": 152,
      "id": "c3303ac6",
      "metadata": {},
      "outputs": [
        {
          "data": {
            "text/html": [
              "<div>\n",
              "<style scoped>\n",
              "    .dataframe tbody tr th:only-of-type {\n",
              "        vertical-align: middle;\n",
              "    }\n",
              "\n",
              "    .dataframe tbody tr th {\n",
              "        vertical-align: top;\n",
              "    }\n",
              "\n",
              "    .dataframe thead th {\n",
              "        text-align: right;\n",
              "    }\n",
              "</style>\n",
              "<table border=\"1\" class=\"dataframe\">\n",
              "  <thead>\n",
              "    <tr style=\"text-align: right;\">\n",
              "      <th></th>\n",
              "      <th>0</th>\n",
              "    </tr>\n",
              "  </thead>\n",
              "  <tbody>\n",
              "    <tr>\n",
              "      <th>Python</th>\n",
              "      <td>354</td>\n",
              "    </tr>\n",
              "    <tr>\n",
              "      <th>SQL</th>\n",
              "      <td>208</td>\n",
              "    </tr>\n",
              "    <tr>\n",
              "      <th>Machine Learning</th>\n",
              "      <td>114</td>\n",
              "    </tr>\n",
              "    <tr>\n",
              "      <th>Git</th>\n",
              "      <td>81</td>\n",
              "    </tr>\n",
              "    <tr>\n",
              "      <th>Математическая статистика</th>\n",
              "      <td>62</td>\n",
              "    </tr>\n",
              "    <tr>\n",
              "      <th>Data Analysis</th>\n",
              "      <td>55</td>\n",
              "    </tr>\n",
              "    <tr>\n",
              "      <th>Linux</th>\n",
              "      <td>53</td>\n",
              "    </tr>\n",
              "    <tr>\n",
              "      <th>Pandas</th>\n",
              "      <td>52</td>\n",
              "    </tr>\n",
              "    <tr>\n",
              "      <th>Data Science</th>\n",
              "      <td>52</td>\n",
              "    </tr>\n",
              "    <tr>\n",
              "      <th>ML</th>\n",
              "      <td>49</td>\n",
              "    </tr>\n",
              "    <tr>\n",
              "      <th>Английский язык</th>\n",
              "      <td>48</td>\n",
              "    </tr>\n",
              "    <tr>\n",
              "      <th>Анализ данных</th>\n",
              "      <td>46</td>\n",
              "    </tr>\n",
              "    <tr>\n",
              "      <th>PyTorch</th>\n",
              "      <td>46</td>\n",
              "    </tr>\n",
              "    <tr>\n",
              "      <th>Big Data</th>\n",
              "      <td>42</td>\n",
              "    </tr>\n",
              "    <tr>\n",
              "      <th>C++</th>\n",
              "      <td>42</td>\n",
              "    </tr>\n",
              "  </tbody>\n",
              "</table>\n",
              "</div>"
            ],
            "text/plain": [
              "                             0\n",
              "Python                     354\n",
              "SQL                        208\n",
              "Machine Learning           114\n",
              "Git                         81\n",
              "Математическая статистика   62\n",
              "Data Analysis               55\n",
              "Linux                       53\n",
              "Pandas                      52\n",
              "Data Science                52\n",
              "ML                          49\n",
              "Английский язык             48\n",
              "Анализ данных               46\n",
              "PyTorch                     46\n",
              "Big Data                    42\n",
              "C++                         42"
            ]
          },
          "execution_count": 152,
          "metadata": {},
          "output_type": "execute_result"
        }
      ],
      "source": [
        "# Обрезали таблицу до ТОП 15, чтоб на ее основе построить диаграмму\n",
        "cut_data = df_sorted[:15]\n",
        "cut_data"
      ]
    },
    {
      "cell_type": "code",
      "execution_count": null,
      "id": "cb0ca6cb",
      "metadata": {},
      "outputs": [
        {
          "data": {
            "application/vnd.plotly.v1+json": {
              "config": {
                "plotlyServerURL": "https://plot.ly"
              },
              "data": [
                {
                  "alignmentgroup": "True",
                  "hovertemplate": "0=%{x}<br>index=%{y}<extra></extra>",
                  "legendgroup": "",
                  "marker": {
                    "color": "#636efa",
                    "pattern": {
                      "shape": ""
                    }
                  },
                  "name": "",
                  "offsetgroup": "",
                  "orientation": "h",
                  "showlegend": false,
                  "textposition": "auto",
                  "type": "bar",
                  "x": [
                    354,
                    208,
                    114,
                    81,
                    62,
                    55,
                    53,
                    52,
                    52,
                    49,
                    48,
                    46,
                    46,
                    42,
                    42
                  ],
                  "xaxis": "x",
                  "y": [
                    "Python",
                    "SQL",
                    "Machine Learning",
                    "Git",
                    "Математическая статистика",
                    "Data Analysis",
                    "Linux",
                    "Pandas",
                    "Data Science",
                    "ML",
                    "Английский язык",
                    "Анализ данных",
                    "PyTorch",
                    "Big Data",
                    "C++"
                  ],
                  "yaxis": "y"
                }
              ],
              "layout": {
                "barmode": "relative",
                "legend": {
                  "tracegroupgap": 0
                },
                "template": {
                  "data": {
                    "bar": [
                      {
                        "error_x": {
                          "color": "#2a3f5f"
                        },
                        "error_y": {
                          "color": "#2a3f5f"
                        },
                        "marker": {
                          "line": {
                            "color": "#E5ECF6",
                            "width": 0.5
                          },
                          "pattern": {
                            "fillmode": "overlay",
                            "size": 10,
                            "solidity": 0.2
                          }
                        },
                        "type": "bar"
                      }
                    ],
                    "barpolar": [
                      {
                        "marker": {
                          "line": {
                            "color": "#E5ECF6",
                            "width": 0.5
                          },
                          "pattern": {
                            "fillmode": "overlay",
                            "size": 10,
                            "solidity": 0.2
                          }
                        },
                        "type": "barpolar"
                      }
                    ],
                    "carpet": [
                      {
                        "aaxis": {
                          "endlinecolor": "#2a3f5f",
                          "gridcolor": "white",
                          "linecolor": "white",
                          "minorgridcolor": "white",
                          "startlinecolor": "#2a3f5f"
                        },
                        "baxis": {
                          "endlinecolor": "#2a3f5f",
                          "gridcolor": "white",
                          "linecolor": "white",
                          "minorgridcolor": "white",
                          "startlinecolor": "#2a3f5f"
                        },
                        "type": "carpet"
                      }
                    ],
                    "choropleth": [
                      {
                        "colorbar": {
                          "outlinewidth": 0,
                          "ticks": ""
                        },
                        "type": "choropleth"
                      }
                    ],
                    "contour": [
                      {
                        "colorbar": {
                          "outlinewidth": 0,
                          "ticks": ""
                        },
                        "colorscale": [
                          [
                            0,
                            "#0d0887"
                          ],
                          [
                            0.1111111111111111,
                            "#46039f"
                          ],
                          [
                            0.2222222222222222,
                            "#7201a8"
                          ],
                          [
                            0.3333333333333333,
                            "#9c179e"
                          ],
                          [
                            0.4444444444444444,
                            "#bd3786"
                          ],
                          [
                            0.5555555555555556,
                            "#d8576b"
                          ],
                          [
                            0.6666666666666666,
                            "#ed7953"
                          ],
                          [
                            0.7777777777777778,
                            "#fb9f3a"
                          ],
                          [
                            0.8888888888888888,
                            "#fdca26"
                          ],
                          [
                            1,
                            "#f0f921"
                          ]
                        ],
                        "type": "contour"
                      }
                    ],
                    "contourcarpet": [
                      {
                        "colorbar": {
                          "outlinewidth": 0,
                          "ticks": ""
                        },
                        "type": "contourcarpet"
                      }
                    ],
                    "heatmap": [
                      {
                        "colorbar": {
                          "outlinewidth": 0,
                          "ticks": ""
                        },
                        "colorscale": [
                          [
                            0,
                            "#0d0887"
                          ],
                          [
                            0.1111111111111111,
                            "#46039f"
                          ],
                          [
                            0.2222222222222222,
                            "#7201a8"
                          ],
                          [
                            0.3333333333333333,
                            "#9c179e"
                          ],
                          [
                            0.4444444444444444,
                            "#bd3786"
                          ],
                          [
                            0.5555555555555556,
                            "#d8576b"
                          ],
                          [
                            0.6666666666666666,
                            "#ed7953"
                          ],
                          [
                            0.7777777777777778,
                            "#fb9f3a"
                          ],
                          [
                            0.8888888888888888,
                            "#fdca26"
                          ],
                          [
                            1,
                            "#f0f921"
                          ]
                        ],
                        "type": "heatmap"
                      }
                    ],
                    "heatmapgl": [
                      {
                        "colorbar": {
                          "outlinewidth": 0,
                          "ticks": ""
                        },
                        "colorscale": [
                          [
                            0,
                            "#0d0887"
                          ],
                          [
                            0.1111111111111111,
                            "#46039f"
                          ],
                          [
                            0.2222222222222222,
                            "#7201a8"
                          ],
                          [
                            0.3333333333333333,
                            "#9c179e"
                          ],
                          [
                            0.4444444444444444,
                            "#bd3786"
                          ],
                          [
                            0.5555555555555556,
                            "#d8576b"
                          ],
                          [
                            0.6666666666666666,
                            "#ed7953"
                          ],
                          [
                            0.7777777777777778,
                            "#fb9f3a"
                          ],
                          [
                            0.8888888888888888,
                            "#fdca26"
                          ],
                          [
                            1,
                            "#f0f921"
                          ]
                        ],
                        "type": "heatmapgl"
                      }
                    ],
                    "histogram": [
                      {
                        "marker": {
                          "pattern": {
                            "fillmode": "overlay",
                            "size": 10,
                            "solidity": 0.2
                          }
                        },
                        "type": "histogram"
                      }
                    ],
                    "histogram2d": [
                      {
                        "colorbar": {
                          "outlinewidth": 0,
                          "ticks": ""
                        },
                        "colorscale": [
                          [
                            0,
                            "#0d0887"
                          ],
                          [
                            0.1111111111111111,
                            "#46039f"
                          ],
                          [
                            0.2222222222222222,
                            "#7201a8"
                          ],
                          [
                            0.3333333333333333,
                            "#9c179e"
                          ],
                          [
                            0.4444444444444444,
                            "#bd3786"
                          ],
                          [
                            0.5555555555555556,
                            "#d8576b"
                          ],
                          [
                            0.6666666666666666,
                            "#ed7953"
                          ],
                          [
                            0.7777777777777778,
                            "#fb9f3a"
                          ],
                          [
                            0.8888888888888888,
                            "#fdca26"
                          ],
                          [
                            1,
                            "#f0f921"
                          ]
                        ],
                        "type": "histogram2d"
                      }
                    ],
                    "histogram2dcontour": [
                      {
                        "colorbar": {
                          "outlinewidth": 0,
                          "ticks": ""
                        },
                        "colorscale": [
                          [
                            0,
                            "#0d0887"
                          ],
                          [
                            0.1111111111111111,
                            "#46039f"
                          ],
                          [
                            0.2222222222222222,
                            "#7201a8"
                          ],
                          [
                            0.3333333333333333,
                            "#9c179e"
                          ],
                          [
                            0.4444444444444444,
                            "#bd3786"
                          ],
                          [
                            0.5555555555555556,
                            "#d8576b"
                          ],
                          [
                            0.6666666666666666,
                            "#ed7953"
                          ],
                          [
                            0.7777777777777778,
                            "#fb9f3a"
                          ],
                          [
                            0.8888888888888888,
                            "#fdca26"
                          ],
                          [
                            1,
                            "#f0f921"
                          ]
                        ],
                        "type": "histogram2dcontour"
                      }
                    ],
                    "mesh3d": [
                      {
                        "colorbar": {
                          "outlinewidth": 0,
                          "ticks": ""
                        },
                        "type": "mesh3d"
                      }
                    ],
                    "parcoords": [
                      {
                        "line": {
                          "colorbar": {
                            "outlinewidth": 0,
                            "ticks": ""
                          }
                        },
                        "type": "parcoords"
                      }
                    ],
                    "pie": [
                      {
                        "automargin": true,
                        "type": "pie"
                      }
                    ],
                    "scatter": [
                      {
                        "fillpattern": {
                          "fillmode": "overlay",
                          "size": 10,
                          "solidity": 0.2
                        },
                        "type": "scatter"
                      }
                    ],
                    "scatter3d": [
                      {
                        "line": {
                          "colorbar": {
                            "outlinewidth": 0,
                            "ticks": ""
                          }
                        },
                        "marker": {
                          "colorbar": {
                            "outlinewidth": 0,
                            "ticks": ""
                          }
                        },
                        "type": "scatter3d"
                      }
                    ],
                    "scattercarpet": [
                      {
                        "marker": {
                          "colorbar": {
                            "outlinewidth": 0,
                            "ticks": ""
                          }
                        },
                        "type": "scattercarpet"
                      }
                    ],
                    "scattergeo": [
                      {
                        "marker": {
                          "colorbar": {
                            "outlinewidth": 0,
                            "ticks": ""
                          }
                        },
                        "type": "scattergeo"
                      }
                    ],
                    "scattergl": [
                      {
                        "marker": {
                          "colorbar": {
                            "outlinewidth": 0,
                            "ticks": ""
                          }
                        },
                        "type": "scattergl"
                      }
                    ],
                    "scattermapbox": [
                      {
                        "marker": {
                          "colorbar": {
                            "outlinewidth": 0,
                            "ticks": ""
                          }
                        },
                        "type": "scattermapbox"
                      }
                    ],
                    "scatterpolar": [
                      {
                        "marker": {
                          "colorbar": {
                            "outlinewidth": 0,
                            "ticks": ""
                          }
                        },
                        "type": "scatterpolar"
                      }
                    ],
                    "scatterpolargl": [
                      {
                        "marker": {
                          "colorbar": {
                            "outlinewidth": 0,
                            "ticks": ""
                          }
                        },
                        "type": "scatterpolargl"
                      }
                    ],
                    "scatterternary": [
                      {
                        "marker": {
                          "colorbar": {
                            "outlinewidth": 0,
                            "ticks": ""
                          }
                        },
                        "type": "scatterternary"
                      }
                    ],
                    "surface": [
                      {
                        "colorbar": {
                          "outlinewidth": 0,
                          "ticks": ""
                        },
                        "colorscale": [
                          [
                            0,
                            "#0d0887"
                          ],
                          [
                            0.1111111111111111,
                            "#46039f"
                          ],
                          [
                            0.2222222222222222,
                            "#7201a8"
                          ],
                          [
                            0.3333333333333333,
                            "#9c179e"
                          ],
                          [
                            0.4444444444444444,
                            "#bd3786"
                          ],
                          [
                            0.5555555555555556,
                            "#d8576b"
                          ],
                          [
                            0.6666666666666666,
                            "#ed7953"
                          ],
                          [
                            0.7777777777777778,
                            "#fb9f3a"
                          ],
                          [
                            0.8888888888888888,
                            "#fdca26"
                          ],
                          [
                            1,
                            "#f0f921"
                          ]
                        ],
                        "type": "surface"
                      }
                    ],
                    "table": [
                      {
                        "cells": {
                          "fill": {
                            "color": "#EBF0F8"
                          },
                          "line": {
                            "color": "white"
                          }
                        },
                        "header": {
                          "fill": {
                            "color": "#C8D4E3"
                          },
                          "line": {
                            "color": "white"
                          }
                        },
                        "type": "table"
                      }
                    ]
                  },
                  "layout": {
                    "annotationdefaults": {
                      "arrowcolor": "#2a3f5f",
                      "arrowhead": 0,
                      "arrowwidth": 1
                    },
                    "autotypenumbers": "strict",
                    "coloraxis": {
                      "colorbar": {
                        "outlinewidth": 0,
                        "ticks": ""
                      }
                    },
                    "colorscale": {
                      "diverging": [
                        [
                          0,
                          "#8e0152"
                        ],
                        [
                          0.1,
                          "#c51b7d"
                        ],
                        [
                          0.2,
                          "#de77ae"
                        ],
                        [
                          0.3,
                          "#f1b6da"
                        ],
                        [
                          0.4,
                          "#fde0ef"
                        ],
                        [
                          0.5,
                          "#f7f7f7"
                        ],
                        [
                          0.6,
                          "#e6f5d0"
                        ],
                        [
                          0.7,
                          "#b8e186"
                        ],
                        [
                          0.8,
                          "#7fbc41"
                        ],
                        [
                          0.9,
                          "#4d9221"
                        ],
                        [
                          1,
                          "#276419"
                        ]
                      ],
                      "sequential": [
                        [
                          0,
                          "#0d0887"
                        ],
                        [
                          0.1111111111111111,
                          "#46039f"
                        ],
                        [
                          0.2222222222222222,
                          "#7201a8"
                        ],
                        [
                          0.3333333333333333,
                          "#9c179e"
                        ],
                        [
                          0.4444444444444444,
                          "#bd3786"
                        ],
                        [
                          0.5555555555555556,
                          "#d8576b"
                        ],
                        [
                          0.6666666666666666,
                          "#ed7953"
                        ],
                        [
                          0.7777777777777778,
                          "#fb9f3a"
                        ],
                        [
                          0.8888888888888888,
                          "#fdca26"
                        ],
                        [
                          1,
                          "#f0f921"
                        ]
                      ],
                      "sequentialminus": [
                        [
                          0,
                          "#0d0887"
                        ],
                        [
                          0.1111111111111111,
                          "#46039f"
                        ],
                        [
                          0.2222222222222222,
                          "#7201a8"
                        ],
                        [
                          0.3333333333333333,
                          "#9c179e"
                        ],
                        [
                          0.4444444444444444,
                          "#bd3786"
                        ],
                        [
                          0.5555555555555556,
                          "#d8576b"
                        ],
                        [
                          0.6666666666666666,
                          "#ed7953"
                        ],
                        [
                          0.7777777777777778,
                          "#fb9f3a"
                        ],
                        [
                          0.8888888888888888,
                          "#fdca26"
                        ],
                        [
                          1,
                          "#f0f921"
                        ]
                      ]
                    },
                    "colorway": [
                      "#636efa",
                      "#EF553B",
                      "#00cc96",
                      "#ab63fa",
                      "#FFA15A",
                      "#19d3f3",
                      "#FF6692",
                      "#B6E880",
                      "#FF97FF",
                      "#FECB52"
                    ],
                    "font": {
                      "color": "#2a3f5f"
                    },
                    "geo": {
                      "bgcolor": "white",
                      "lakecolor": "white",
                      "landcolor": "#E5ECF6",
                      "showlakes": true,
                      "showland": true,
                      "subunitcolor": "white"
                    },
                    "hoverlabel": {
                      "align": "left"
                    },
                    "hovermode": "closest",
                    "mapbox": {
                      "style": "light"
                    },
                    "paper_bgcolor": "white",
                    "plot_bgcolor": "#E5ECF6",
                    "polar": {
                      "angularaxis": {
                        "gridcolor": "white",
                        "linecolor": "white",
                        "ticks": ""
                      },
                      "bgcolor": "#E5ECF6",
                      "radialaxis": {
                        "gridcolor": "white",
                        "linecolor": "white",
                        "ticks": ""
                      }
                    },
                    "scene": {
                      "xaxis": {
                        "backgroundcolor": "#E5ECF6",
                        "gridcolor": "white",
                        "gridwidth": 2,
                        "linecolor": "white",
                        "showbackground": true,
                        "ticks": "",
                        "zerolinecolor": "white"
                      },
                      "yaxis": {
                        "backgroundcolor": "#E5ECF6",
                        "gridcolor": "white",
                        "gridwidth": 2,
                        "linecolor": "white",
                        "showbackground": true,
                        "ticks": "",
                        "zerolinecolor": "white"
                      },
                      "zaxis": {
                        "backgroundcolor": "#E5ECF6",
                        "gridcolor": "white",
                        "gridwidth": 2,
                        "linecolor": "white",
                        "showbackground": true,
                        "ticks": "",
                        "zerolinecolor": "white"
                      }
                    },
                    "shapedefaults": {
                      "line": {
                        "color": "#2a3f5f"
                      }
                    },
                    "ternary": {
                      "aaxis": {
                        "gridcolor": "white",
                        "linecolor": "white",
                        "ticks": ""
                      },
                      "baxis": {
                        "gridcolor": "white",
                        "linecolor": "white",
                        "ticks": ""
                      },
                      "bgcolor": "#E5ECF6",
                      "caxis": {
                        "gridcolor": "white",
                        "linecolor": "white",
                        "ticks": ""
                      }
                    },
                    "title": {
                      "x": 0.05
                    },
                    "xaxis": {
                      "automargin": true,
                      "gridcolor": "white",
                      "linecolor": "white",
                      "ticks": "",
                      "title": {
                        "standoff": 15
                      },
                      "zerolinecolor": "white",
                      "zerolinewidth": 2
                    },
                    "yaxis": {
                      "automargin": true,
                      "gridcolor": "white",
                      "linecolor": "white",
                      "ticks": "",
                      "title": {
                        "standoff": 15
                      },
                      "zerolinecolor": "white",
                      "zerolinewidth": 2
                    }
                  }
                },
                "title": {
                  "text": "Топ-15 ключевых навыков для Data Science"
                },
                "xaxis": {
                  "anchor": "y",
                  "domain": [
                    0,
                    1
                  ],
                  "title": {
                    "text": "0"
                  }
                },
                "yaxis": {
                  "anchor": "x",
                  "domain": [
                    0,
                    1
                  ],
                  "title": {
                    "text": "index"
                  }
                }
              }
            }
          },
          "metadata": {},
          "output_type": "display_data"
        }
      ],
      "source": [
        "# Строим для наглядности столбчатую диаграмму ТОП-15 ключевых навыков, которые указывают в вакансиях по DS\n",
        "import plotly.express as px\n",
        "fig = px.bar(cut_data, \n",
        "             x=0, \n",
        "             title='Топ-15 ключевых навыков для Data Science')\n",
        "fig.show()"
      ]
    },
    {
      "cell_type": "markdown",
      "id": "089eb94b",
      "metadata": {},
      "source": [
        "Вывели список ключивых навыков, которые необходимо развивать для развития в сфере Data Science"
      ]
    },
    {
      "cell_type": "markdown",
      "id": "32aaf222",
      "metadata": {},
      "source": [
        "Новое изменение, создала ветвь master в папке Project_2"
      ]
    }
  ],
  "metadata": {
    "colab": {
      "collapsed_sections": [
        "8d62a9f3-f64e-4fe7-bdac-c4dffa16155e"
      ],
      "provenance": []
    },
    "kernelspec": {
      "display_name": "Python 3",
      "language": "python",
      "name": "python3"
    },
    "language_info": {
      "codemirror_mode": {
        "name": "ipython",
        "version": 3
      },
      "file_extension": ".py",
      "mimetype": "text/x-python",
      "name": "python",
      "nbconvert_exporter": "python",
      "pygments_lexer": "ipython3",
      "version": "3.9.10"
    }
  },
  "nbformat": 4,
  "nbformat_minor": 5
}
